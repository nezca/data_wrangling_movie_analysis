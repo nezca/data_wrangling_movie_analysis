{
 "cells": [
  {
   "cell_type": "markdown",
   "metadata": {},
   "source": [
    "### Step_3. To recovery our mistake\n",
    "\n",
    "We are going to read CSV file and merging the budget data from the Number data."
   ]
  },
  {
   "cell_type": "code",
   "execution_count": 1,
   "metadata": {
    "collapsed": true,
    "jupyter": {
     "outputs_hidden": true
    }
   },
   "outputs": [
    {
     "name": "stderr",
     "output_type": "stream",
     "text": [
      "-- \u001b[1mAttaching packages\u001b[22m --------------------------------------- tidyverse 1.2.1 --\n",
      "\u001b[32m√\u001b[39m \u001b[34mggplot2\u001b[39m 3.2.1     \u001b[32m√\u001b[39m \u001b[34mpurrr  \u001b[39m 0.3.2\n",
      "\u001b[32m√\u001b[39m \u001b[34mtibble \u001b[39m 2.1.3     \u001b[32m√\u001b[39m \u001b[34mdplyr  \u001b[39m 0.8.3\n",
      "\u001b[32m√\u001b[39m \u001b[34mtidyr  \u001b[39m 0.8.3     \u001b[32m√\u001b[39m \u001b[34mstringr\u001b[39m 1.4.0\n",
      "\u001b[32m√\u001b[39m \u001b[34mreadr  \u001b[39m 1.3.1     \u001b[32m√\u001b[39m \u001b[34mforcats\u001b[39m 0.4.0\n",
      "-- \u001b[1mConflicts\u001b[22m ------------------------------------------ tidyverse_conflicts() --\n",
      "\u001b[31mx\u001b[39m \u001b[34mdplyr\u001b[39m::\u001b[32mfilter()\u001b[39m masks \u001b[34mstats\u001b[39m::filter()\n",
      "\u001b[31mx\u001b[39m \u001b[34mdplyr\u001b[39m::\u001b[32mlag()\u001b[39m    masks \u001b[34mstats\u001b[39m::lag()\n",
      "\n",
      "Attaching package: 'skimr'\n",
      "\n",
      "The following object is masked from 'package:stats':\n",
      "\n",
      "    filter\n",
      "\n",
      "\n",
      "Attaching package: 'glue'\n",
      "\n",
      "The following object is masked from 'package:dplyr':\n",
      "\n",
      "    collapse\n",
      "\n",
      "\n",
      "Attaching package: 'MASS'\n",
      "\n",
      "The following object is masked from 'package:dplyr':\n",
      "\n",
      "    select\n",
      "\n"
     ]
    }
   ],
   "source": [
    "# Call relevant libraries\n",
    "library(tidyverse)\n",
    "library(readr)\n",
    "library(visdat)\n",
    "library(skimr)\n",
    "library(glue)\n",
    "library(MASS)"
   ]
  },
  {
   "cell_type": "code",
   "execution_count": 2,
   "metadata": {},
   "outputs": [
    {
     "name": "stderr",
     "output_type": "stream",
     "text": [
      "Parsed with column specification:\n",
      "cols(\n",
      "  movieID = \u001b[31mcol_character()\u001b[39m,\n",
      "  mainTitle = \u001b[31mcol_character()\u001b[39m,\n",
      "  subTitle = \u001b[31mcol_character()\u001b[39m,\n",
      "  fullWordCounts = \u001b[32mcol_double()\u001b[39m,\n",
      "  releaseYear = \u001b[32mcol_double()\u001b[39m,\n",
      "  runTime = \u001b[32mcol_double()\u001b[39m,\n",
      "  overAdult = \u001b[32mcol_double()\u001b[39m,\n",
      "  genreType = \u001b[31mcol_character()\u001b[39m,\n",
      "  mainGenre = \u001b[31mcol_character()\u001b[39m,\n",
      "  genreComplexity = \u001b[32mcol_double()\u001b[39m,\n",
      "  directorCode = \u001b[31mcol_character()\u001b[39m,\n",
      "  directorName = \u001b[31mcol_character()\u001b[39m,\n",
      "  averageRating = \u001b[32mcol_double()\u001b[39m,\n",
      "  voteCounts = \u001b[32mcol_double()\u001b[39m,\n",
      "  rankOrder = \u001b[32mcol_double()\u001b[39m,\n",
      "  domesticGross = \u001b[32mcol_double()\u001b[39m,\n",
      "  worldGross = \u001b[32mcol_double()\u001b[39m,\n",
      "  totalRevenue = \u001b[32mcol_double()\u001b[39m\n",
      ")\n"
     ]
    }
   ],
   "source": [
    "# Read the \"movie_data_step_3_Julia.csv\" file to prepare for merging\n",
    "step3_movie_data_analysing = read_csv(file = \"movie_data_step_3_Julia.csv\")"
   ]
  },
  {
   "cell_type": "code",
   "execution_count": 4,
   "metadata": {},
   "outputs": [
    {
     "name": "stderr",
     "output_type": "stream",
     "text": [
      "Parsed with column specification:\n",
      "cols(\n",
      "  Rank = \u001b[32mcol_double()\u001b[39m,\n",
      "  ReleaseYear = \u001b[34mcol_date(format = \"\")\u001b[39m,\n",
      "  Movie = \u001b[31mcol_character()\u001b[39m,\n",
      "  ProductionBudget = \u001b[32mcol_double()\u001b[39m,\n",
      "  DomesticGross = \u001b[32mcol_double()\u001b[39m,\n",
      "  WorldwideGross = \u001b[32mcol_double()\u001b[39m\n",
      ")\n"
     ]
    }
   ],
   "source": [
    "# Read the \"movies_df.csv\" file to get the budget data for merging\n",
    "budget = read_csv(file = \"movies_df_1.csv\")"
   ]
  },
  {
   "cell_type": "code",
   "execution_count": 5,
   "metadata": {},
   "outputs": [],
   "source": [
    "# Mutating a new column which is 'Rank' to merge with 'movies_df.csv'\n",
    "step3_movie_data_analysing_rank_add <- mutate(step3_movie_data_analysing, Rank = rankOrder)"
   ]
  },
  {
   "cell_type": "code",
   "execution_count": 6,
   "metadata": {},
   "outputs": [],
   "source": [
    "# Merging 'budget data with the manipulated data frame.\n",
    "movie_data_R_step2 = merge(x = step3_movie_data_analysing_rank_add, y = budget, by = \"Rank\", all.x = TRUE)"
   ]
  },
  {
   "cell_type": "code",
   "execution_count": 7,
   "metadata": {},
   "outputs": [
    {
     "data": {
      "text/html": [
       "<ol class=list-inline>\n",
       "\t<li>'Rank'</li>\n",
       "\t<li>'movieID'</li>\n",
       "\t<li>'mainTitle'</li>\n",
       "\t<li>'subTitle'</li>\n",
       "\t<li>'fullWordCounts'</li>\n",
       "\t<li>'releaseYear'</li>\n",
       "\t<li>'runTime'</li>\n",
       "\t<li>'overAdult'</li>\n",
       "\t<li>'genreType'</li>\n",
       "\t<li>'mainGenre'</li>\n",
       "\t<li>'genreComplexity'</li>\n",
       "\t<li>'directorCode'</li>\n",
       "\t<li>'directorName'</li>\n",
       "\t<li>'averageRating'</li>\n",
       "\t<li>'voteCounts'</li>\n",
       "\t<li>'rankOrder'</li>\n",
       "\t<li>'domesticGross'</li>\n",
       "\t<li>'worldGross'</li>\n",
       "\t<li>'totalRevenue'</li>\n",
       "\t<li>'ReleaseYear'</li>\n",
       "\t<li>'Movie'</li>\n",
       "\t<li>'ProductionBudget'</li>\n",
       "\t<li>'DomesticGross'</li>\n",
       "\t<li>'WorldwideGross'</li>\n",
       "</ol>\n"
      ],
      "text/latex": [
       "\\begin{enumerate*}\n",
       "\\item 'Rank'\n",
       "\\item 'movieID'\n",
       "\\item 'mainTitle'\n",
       "\\item 'subTitle'\n",
       "\\item 'fullWordCounts'\n",
       "\\item 'releaseYear'\n",
       "\\item 'runTime'\n",
       "\\item 'overAdult'\n",
       "\\item 'genreType'\n",
       "\\item 'mainGenre'\n",
       "\\item 'genreComplexity'\n",
       "\\item 'directorCode'\n",
       "\\item 'directorName'\n",
       "\\item 'averageRating'\n",
       "\\item 'voteCounts'\n",
       "\\item 'rankOrder'\n",
       "\\item 'domesticGross'\n",
       "\\item 'worldGross'\n",
       "\\item 'totalRevenue'\n",
       "\\item 'ReleaseYear'\n",
       "\\item 'Movie'\n",
       "\\item 'ProductionBudget'\n",
       "\\item 'DomesticGross'\n",
       "\\item 'WorldwideGross'\n",
       "\\end{enumerate*}\n"
      ],
      "text/markdown": [
       "1. 'Rank'\n",
       "2. 'movieID'\n",
       "3. 'mainTitle'\n",
       "4. 'subTitle'\n",
       "5. 'fullWordCounts'\n",
       "6. 'releaseYear'\n",
       "7. 'runTime'\n",
       "8. 'overAdult'\n",
       "9. 'genreType'\n",
       "10. 'mainGenre'\n",
       "11. 'genreComplexity'\n",
       "12. 'directorCode'\n",
       "13. 'directorName'\n",
       "14. 'averageRating'\n",
       "15. 'voteCounts'\n",
       "16. 'rankOrder'\n",
       "17. 'domesticGross'\n",
       "18. 'worldGross'\n",
       "19. 'totalRevenue'\n",
       "20. 'ReleaseYear'\n",
       "21. 'Movie'\n",
       "22. 'ProductionBudget'\n",
       "23. 'DomesticGross'\n",
       "24. 'WorldwideGross'\n",
       "\n",
       "\n"
      ],
      "text/plain": [
       " [1] \"Rank\"             \"movieID\"          \"mainTitle\"        \"subTitle\"        \n",
       " [5] \"fullWordCounts\"   \"releaseYear\"      \"runTime\"          \"overAdult\"       \n",
       " [9] \"genreType\"        \"mainGenre\"        \"genreComplexity\"  \"directorCode\"    \n",
       "[13] \"directorName\"     \"averageRating\"    \"voteCounts\"       \"rankOrder\"       \n",
       "[17] \"domesticGross\"    \"worldGross\"       \"totalRevenue\"     \"ReleaseYear\"     \n",
       "[21] \"Movie\"            \"ProductionBudget\" \"DomesticGross\"    \"WorldwideGross\"  "
      ]
     },
     "metadata": {},
     "output_type": "display_data"
    }
   ],
   "source": [
    "# Check that the columns are positioned properly for wrangling task\n",
    "names(movie_data_R_step2)"
   ]
  },
  {
   "cell_type": "markdown",
   "metadata": {},
   "source": [
    "#### Unfortunately,\n",
    "In the \"movie_data_step_4_R.csv\" file, we have found that one of the useless data we deleted in the last Julia part has been resurrected such as 'NA'.\n",
    "it is going to be a problem when we draw some plots. 'NA' data should be deleted again. Let's go to Julia notebook again.\n",
    "\n",
    "Also, there are a few tasks for drawing some plots easily.\n",
    "\n",
    "#### First of all, save the above data frame into CSV file to read in Julia Notebook."
   ]
  },
  {
   "cell_type": "code",
   "execution_count": 8,
   "metadata": {},
   "outputs": [],
   "source": [
    "# Storing it for another wrangling in Julia\n",
    "write_csv(movie_data_R_step2, \"movie_data_step_4_R.csv\")"
   ]
  },
  {
   "cell_type": "markdown",
   "metadata": {},
   "source": [
    "#### find a file name 'project_step_3(data_analysing)_R'"
   ]
  }
 ],
 "metadata": {
  "kernelspec": {
   "display_name": "R",
   "language": "R",
   "name": "ir"
  },
  "language_info": {
   "codemirror_mode": "r",
   "file_extension": ".r",
   "mimetype": "text/x-r-source",
   "name": "R",
   "pygments_lexer": "r",
   "version": "3.6.1"
  }
 },
 "nbformat": 4,
 "nbformat_minor": 4
}
