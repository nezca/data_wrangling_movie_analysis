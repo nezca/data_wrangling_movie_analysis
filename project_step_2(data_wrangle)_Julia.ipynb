{
 "cells": [
  {
   "cell_type": "markdown",
   "metadata": {},
   "source": [
    "### Step_2. Data wrangling_1\n",
    "#### 1. Selecting useful columns\n",
    "we are going to select 14 variables for wrangling task from full dataframe."
   ]
  },
  {
   "cell_type": "code",
   "execution_count": 1,
   "metadata": {},
   "outputs": [],
   "source": [
    "# Call relevant libraries\n",
    "using DataFrames, CSV"
   ]
  },
  {
   "cell_type": "code",
   "execution_count": 2,
   "metadata": {
    "collapsed": true,
    "jupyter": {
     "outputs_hidden": true
    }
   },
   "outputs": [
    {
     "data": {
      "text/plain": [
       "27-element Array{Symbol,1}:\n",
       " :nconst           \n",
       " :tconst           \n",
       " :Rank             \n",
       " :ReleaseYear      \n",
       " :year             \n",
       " :Movie_first      \n",
       " :Movie_second     \n",
       " :DomesticGross    \n",
       " :WorldwideGross   \n",
       " :movieId          \n",
       " :titleType        \n",
       " :primaryTitle     \n",
       " :originalTitle    \n",
       " ⋮                 \n",
       " :endYear          \n",
       " :runtimeMinutes   \n",
       " :genres           \n",
       " :averageRating    \n",
       " :numVotes         \n",
       " :directors        \n",
       " :writers          \n",
       " :primaryName      \n",
       " :birthYear        \n",
       " :deathYear        \n",
       " :primaryProfession\n",
       " :knownForTitles   "
      ]
     },
     "execution_count": 2,
     "metadata": {},
     "output_type": "execute_result"
    }
   ],
   "source": [
    "# Read the 'movie_data_step_1_R.csv' file and check what names of columns in the data frame.\n",
    "movie_dataframe = CSV.read(\"movie_data_step_1_R.csv\")\n",
    "names(movie_dataframe)"
   ]
  },
  {
   "cell_type": "code",
   "execution_count": 4,
   "metadata": {
    "collapsed": true,
    "jupyter": {
     "outputs_hidden": true
    }
   },
   "outputs": [
    {
     "name": "stdout",
     "output_type": "stream",
     "text": [
      "2×14 DataFrame\n",
      "│ Row │ tconst    │ Movie_first          │ Movie_second │ year  │\n",
      "│     │ \u001b[90mString\u001b[39m    │ \u001b[90mString\u001b[39m               │ \u001b[90mString\u001b[39m       │ \u001b[90mInt64\u001b[39m │\n",
      "├─────┼───────────┼──────────────────────┼──────────────┼───────┤\n",
      "│ 1   │ tt4064028 │ Hoodwinked           │ NA           │ 2006  │\n",
      "│ 2   │ tt0401784 │ Bend it Like Beckham │ NA           │ 2003  │\n",
      "\n",
      "│ Row │ runtimeMinutes │ isAdult │ genres            │ directors │ primaryName │\n",
      "│     │ \u001b[90mString\u001b[39m         │ \u001b[90mString\u001b[39m  │ \u001b[90mString\u001b[39m            │ \u001b[90mString\u001b[39m    │ \u001b[90mString\u001b[39m      │\n",
      "├─────┼────────────────┼─────────┼───────────────────┼───────────┼─────────────┤\n",
      "│ 1   │ 76             │ 0       │ \\\\N               │ \\\\N       │ NA          │\n",
      "│ 2   │ 15             │ 0       │ Documentary,Short │ \\\\N       │ NA          │\n",
      "\n",
      "│ Row │ averageRating │ numVotes │ Rank  │ DomesticGross │ WorldwideGross │\n",
      "│     │ \u001b[90mString\u001b[39m        │ \u001b[90mString\u001b[39m   │ \u001b[90mInt64\u001b[39m │ \u001b[90mInt64\u001b[39m         │ \u001b[90mInt64\u001b[39m          │\n",
      "├─────┼───────────────┼──────────┼───────┼───────────────┼────────────────┤\n",
      "│ 1   │ NA            │ NA       │ 2885  │ 51386611      │ 109843390      │\n",
      "│ 2   │ 6.7           │ 46       │ 4253  │ 32543449      │ 74566042       │"
     ]
    }
   ],
   "source": [
    "# Selecting 14 columns and check that the columns are positioned properly for wrangling task\n",
    "selected_movie_dataframe = movie_dataframe[:,[2, 6, 7, 5, 17, 14, 18, 21, 23, 19, 20, 3, 8, 9]]\n",
    "show(first(selected_movie_dataframe,2), allcols=true, splitcols=true)"
   ]
  },
  {
   "cell_type": "markdown",
   "metadata": {},
   "source": [
    "#### 2. Deleting 'NA', '/NA' data\n",
    "Former full data frame has useless data which are 'NA', '/N', so we need to replace it to missing data or 'NaN'."
   ]
  },
  {
   "cell_type": "code",
   "execution_count": 5,
   "metadata": {
    "collapsed": true,
    "jupyter": {
     "outputs_hidden": true
    }
   },
   "outputs": [
    {
     "data": {
      "text/html": [
       "<table class=\"data-frame\"><thead><tr><th></th><th>tconst</th><th>Movie_first</th><th>Movie_second</th><th>year</th><th>runtimeMinutes</th></tr><tr><th></th><th>String</th><th>String</th><th>String</th><th>Int64</th><th>String</th></tr></thead><tbody><p>5,679 rows × 14 columns (omitted printing of 9 columns)</p><tr><th>1</th><td>tt4064028</td><td>Hoodwinked</td><td>NA</td><td>2006</td><td>76</td></tr><tr><th>2</th><td>tt0401784</td><td>Bend it Like Beckham</td><td>NA</td><td>2003</td><td>15</td></tr><tr><th>3</th><td>tt4994952</td><td>Black or White</td><td>NA</td><td>2015</td><td>\\\\N</td></tr><tr><th>4</th><td>tt1517098</td><td>Sunshine Cleaning</td><td>NA</td><td>2009</td><td>12</td></tr><tr><th>5</th><td>tt5014406</td><td>The Journey</td><td>NA</td><td>2003</td><td>NA</td></tr><tr><th>6</th><td>tt5160558</td><td>88 Minutes</td><td>NA</td><td>2008</td><td>8</td></tr><tr><th>7</th><td>tt5173200</td><td>The Best Exotic Marigold Hotel</td><td>NA</td><td>2012</td><td>2</td></tr><tr><th>8</th><td>tt5210194</td><td>Brooklyn's Finest</td><td>NA</td><td>2010</td><td>5</td></tr><tr><th>9</th><td>tt5262674</td><td>Ex Machina</td><td>NA</td><td>2015</td><td>29</td></tr><tr><th>10</th><td>tt5449004</td><td>Mindhunters</td><td>NA</td><td>2005</td><td>5</td></tr><tr><th>11</th><td>tt5449860</td><td>Slow Burn</td><td>NA</td><td>2007</td><td>7</td></tr><tr><th>12</th><td>tt1571569</td><td>Defiance</td><td>NA</td><td>2009</td><td>25</td></tr><tr><th>13</th><td>tt1584804</td><td>Crank 2</td><td>High Voltage</td><td>2009</td><td>54</td></tr><tr><th>14</th><td>tt5923204</td><td>Frances Ha</td><td>NA</td><td>2013</td><td>\\\\N</td></tr><tr><th>15</th><td>tt5928532</td><td>Eden</td><td>NA</td><td>2016</td><td>\\\\N</td></tr><tr><th>16</th><td>tt6020556</td><td>Show Me</td><td>NA</td><td>2005</td><td>5</td></tr><tr><th>17</th><td>tt6042478</td><td>Still Alice</td><td>NA</td><td>2015</td><td>\\\\N</td></tr><tr><th>18</th><td>tt6049430</td><td>Testament of Youth</td><td>NA</td><td>2015</td><td>8</td></tr><tr><th>19</th><td>tt6051948</td><td>Flower</td><td>NA</td><td>2018</td><td>NA</td></tr><tr><th>20</th><td>tt1609781</td><td>D.E.B.S.</td><td>NA</td><td>2005</td><td>12</td></tr><tr><th>21</th><td>tt0452999</td><td>May</td><td>NA</td><td>2003</td><td>\\\\N</td></tr><tr><th>22</th><td>tt0309529</td><td>Dead Alive</td><td>NA</td><td>1993</td><td>\\\\N</td></tr><tr><th>23</th><td>tt8115904</td><td>Eddie the Eagle</td><td>NA</td><td>2016</td><td>8</td></tr><tr><th>24</th><td>tt1723611</td><td>Solitary Man</td><td>NA</td><td>2010</td><td>11</td></tr><tr><th>25</th><td>tt0487897</td><td>Dreamer</td><td>Inspired by a True Story</td><td>2005</td><td>98</td></tr><tr><th>26</th><td>tt1781967</td><td>Agora</td><td>NA</td><td>2010</td><td>\\\\N</td></tr><tr><th>27</th><td>tt0495815</td><td>House of D</td><td>NA</td><td>2005</td><td>11</td></tr><tr><th>28</th><td>tt2010510</td><td>Newlyweds</td><td>NA</td><td>2012</td><td>60</td></tr><tr><th>29</th><td>tt0302224</td><td>24 7</td><td>Twenty Four Seven</td><td>1998</td><td>\\\\N</td></tr><tr><th>30</th><td>tt3504988</td><td>The Place Beyond the Pines</td><td>NA</td><td>2013</td><td>NA</td></tr><tr><th>&vellip;</th><td>&vellip;</td><td>&vellip;</td><td>&vellip;</td><td>&vellip;</td><td>&vellip;</td></tr></tbody></table>"
      ],
      "text/latex": [
       "\\begin{tabular}{r|cccccc}\n",
       "\t& tconst & Movie\\_first & Movie\\_second & year & runtimeMinutes & \\\\\n",
       "\t\\hline\n",
       "\t& String & String & String & Int64 & String & \\\\\n",
       "\t\\hline\n",
       "\t1 & tt4064028 & Hoodwinked & NA & 2006 & 76 & $\\dots$ \\\\\n",
       "\t2 & tt0401784 & Bend it Like Beckham & NA & 2003 & 15 & $\\dots$ \\\\\n",
       "\t3 & tt4994952 & Black or White & NA & 2015 & \\textbackslash{}\\textbackslash{}N & $\\dots$ \\\\\n",
       "\t4 & tt1517098 & Sunshine Cleaning & NA & 2009 & 12 & $\\dots$ \\\\\n",
       "\t5 & tt5014406 & The Journey & NA & 2003 & NA & $\\dots$ \\\\\n",
       "\t6 & tt5160558 & 88 Minutes & NA & 2008 & 8 & $\\dots$ \\\\\n",
       "\t7 & tt5173200 & The Best Exotic Marigold Hotel & NA & 2012 & 2 & $\\dots$ \\\\\n",
       "\t8 & tt5210194 & Brooklyn's Finest & NA & 2010 & 5 & $\\dots$ \\\\\n",
       "\t9 & tt5262674 & Ex Machina & NA & 2015 & 29 & $\\dots$ \\\\\n",
       "\t10 & tt5449004 & Mindhunters & NA & 2005 & 5 & $\\dots$ \\\\\n",
       "\t11 & tt5449860 & Slow Burn & NA & 2007 & 7 & $\\dots$ \\\\\n",
       "\t12 & tt1571569 & Defiance & NA & 2009 & 25 & $\\dots$ \\\\\n",
       "\t13 & tt1584804 & Crank 2 & High Voltage & 2009 & 54 & $\\dots$ \\\\\n",
       "\t14 & tt5923204 & Frances Ha & NA & 2013 & \\textbackslash{}\\textbackslash{}N & $\\dots$ \\\\\n",
       "\t15 & tt5928532 & Eden & NA & 2016 & \\textbackslash{}\\textbackslash{}N & $\\dots$ \\\\\n",
       "\t16 & tt6020556 & Show Me & NA & 2005 & 5 & $\\dots$ \\\\\n",
       "\t17 & tt6042478 & Still Alice & NA & 2015 & \\textbackslash{}\\textbackslash{}N & $\\dots$ \\\\\n",
       "\t18 & tt6049430 & Testament of Youth & NA & 2015 & 8 & $\\dots$ \\\\\n",
       "\t19 & tt6051948 & Flower & NA & 2018 & NA & $\\dots$ \\\\\n",
       "\t20 & tt1609781 & D.E.B.S. & NA & 2005 & 12 & $\\dots$ \\\\\n",
       "\t21 & tt0452999 & May & NA & 2003 & \\textbackslash{}\\textbackslash{}N & $\\dots$ \\\\\n",
       "\t22 & tt0309529 & Dead Alive & NA & 1993 & \\textbackslash{}\\textbackslash{}N & $\\dots$ \\\\\n",
       "\t23 & tt8115904 & Eddie the Eagle & NA & 2016 & 8 & $\\dots$ \\\\\n",
       "\t24 & tt1723611 & Solitary Man & NA & 2010 & 11 & $\\dots$ \\\\\n",
       "\t25 & tt0487897 & Dreamer & Inspired by a True Story & 2005 & 98 & $\\dots$ \\\\\n",
       "\t26 & tt1781967 & Agora & NA & 2010 & \\textbackslash{}\\textbackslash{}N & $\\dots$ \\\\\n",
       "\t27 & tt0495815 & House of D & NA & 2005 & 11 & $\\dots$ \\\\\n",
       "\t28 & tt2010510 & Newlyweds & NA & 2012 & 60 & $\\dots$ \\\\\n",
       "\t29 & tt0302224 & 24 7 & Twenty Four Seven & 1998 & \\textbackslash{}\\textbackslash{}N & $\\dots$ \\\\\n",
       "\t30 & tt3504988 & The Place Beyond the Pines & NA & 2013 & NA & $\\dots$ \\\\\n",
       "\t$\\dots$ & $\\dots$ & $\\dots$ & $\\dots$ & $\\dots$ & $\\dots$ &  \\\\\n",
       "\\end{tabular}\n"
      ],
      "text/plain": [
       "5679×14 DataFrame. Omitted printing of 11 columns\n",
       "│ Row  │ tconst    │ Movie_first                          │ Movie_second │\n",
       "│      │ \u001b[90mString\u001b[39m    │ \u001b[90mString\u001b[39m                               │ \u001b[90mString\u001b[39m       │\n",
       "├──────┼───────────┼──────────────────────────────────────┼──────────────┤\n",
       "│ 1    │ tt4064028 │ Hoodwinked                           │ NA           │\n",
       "│ 2    │ tt0401784 │ Bend it Like Beckham                 │ NA           │\n",
       "│ 3    │ tt4994952 │ Black or White                       │ NA           │\n",
       "│ 4    │ tt1517098 │ Sunshine Cleaning                    │ NA           │\n",
       "│ 5    │ tt5014406 │ The Journey                          │ NA           │\n",
       "│ 6    │ tt5160558 │ 88 Minutes                           │ NA           │\n",
       "│ 7    │ tt5173200 │ The Best Exotic Marigold Hotel       │ NA           │\n",
       "│ 8    │ tt5210194 │ Brooklyn's Finest                    │ NA           │\n",
       "│ 9    │ tt5262674 │ Ex Machina                           │ NA           │\n",
       "│ 10   │ tt5449004 │ Mindhunters                          │ NA           │\n",
       "⋮\n",
       "│ 5669 │ NA        │ The Lost City of Z                   │ NA           │\n",
       "│ 5670 │ NA        │ Song One                             │ NA           │\n",
       "│ 5671 │ NA        │ Lake of Fire                         │ NA           │\n",
       "│ 5672 │ NA        │ Slacker Uprising                     │ NA           │\n",
       "│ 5673 │ NA        │ Serbuan maut                         │ NA           │\n",
       "│ 5674 │ NA        │ The Reluctant Fundamentalist         │ NA           │\n",
       "│ 5675 │ NA        │ Saul fia                             │ NA           │\n",
       "│ 5676 │ NA        │ La misma luna                        │ NA           │\n",
       "│ 5677 │ NA        │ Les Intouchables                     │ NA           │\n",
       "│ 5678 │ NA        │ The Young and Prodigious T.S. Spivet │ NA           │\n",
       "│ 5679 │ NA        │ A Dog?\\x80?s Purpose                 │ NA           │"
      ]
     },
     "execution_count": 5,
     "metadata": {},
     "output_type": "execute_result"
    }
   ],
   "source": [
    "# Define variable for using former full data frame.\n",
    "movie_data_julia = DataFrame(selected_movie_dataframe)"
   ]
  },
  {
   "cell_type": "code",
   "execution_count": 6,
   "metadata": {},
   "outputs": [],
   "source": [
    "# Deleting 'NA', '/N' data inside of the column 1\n",
    "tconst = movie_data_julia[!,1]\n",
    "\n",
    "tconst_1 = []\n",
    "for i in tconst\n",
    "    push!(tconst_1, replace(i, \"NA\" => \"\"))\n",
    "end\n",
    "\n",
    "movieID = []\n",
    "for i in tconst_1\n",
    "    push!(movieID, replace(i, \"\\\\N\" => \"\"))\n",
    "end"
   ]
  },
  {
   "cell_type": "code",
   "execution_count": 7,
   "metadata": {},
   "outputs": [],
   "source": [
    "# Deleting 'NA', '/N' data inside of the column 2\n",
    "movie_first = movie_data_julia[!,2]\n",
    "\n",
    "movie_first_1 = []\n",
    "for i in movie_first\n",
    "    push!(movie_first_1, replace(i, \"NA\" => \"\"))\n",
    "end\n",
    "\n",
    "title_main = []\n",
    "for i in movie_first_1\n",
    "    push!(title_main, replace(i, \"\\\\N\" => \"\"))\n",
    "end"
   ]
  },
  {
   "cell_type": "code",
   "execution_count": 8,
   "metadata": {},
   "outputs": [],
   "source": [
    "# Deleting 'NA', '/N' data inside of the column 3\n",
    "movie_second = movie_data_julia[!,3]\n",
    "\n",
    "movie_second_1 = []\n",
    "for i in movie_second\n",
    "    push!(movie_second_1, replace(i, \"NA\" => \"\"))\n",
    "end\n",
    "\n",
    "title_sub = []\n",
    "for i in movie_second_1\n",
    "    push!(title_sub, replace(i, \"\\\\N\" => \"\"))\n",
    "end"
   ]
  },
  {
   "cell_type": "code",
   "execution_count": 9,
   "metadata": {
    "collapsed": true,
    "jupyter": {
     "outputs_hidden": true
    }
   },
   "outputs": [
    {
     "data": {
      "text/plain": [
       "5679-element Array{Int64,1}:\n",
       " 2006\n",
       " 2003\n",
       " 2015\n",
       " 2009\n",
       " 2003\n",
       " 2008\n",
       " 2012\n",
       " 2010\n",
       " 2015\n",
       " 2005\n",
       " 2007\n",
       " 2009\n",
       " 2009\n",
       "    ⋮\n",
       " 2015\n",
       " 2017\n",
       " 2015\n",
       " 2007\n",
       " 2008\n",
       " 2012\n",
       " 2013\n",
       " 2015\n",
       " 2008\n",
       " 2012\n",
       " 2015\n",
       " 2017"
      ]
     },
     "execution_count": 9,
     "metadata": {},
     "output_type": "execute_result"
    }
   ],
   "source": [
    "# Deleting 'NA', '/N' data inside of the column 4\n",
    "year = movie_data_julia[!,4]"
   ]
  },
  {
   "cell_type": "code",
   "execution_count": 10,
   "metadata": {},
   "outputs": [],
   "source": [
    "# Deleting 'NA', '/N' data inside of the column 5\n",
    "runtime_minutes = movie_data_julia[!,5]\n",
    "\n",
    "runtime_minutes_1 = []\n",
    "for i in runtime_minutes\n",
    "    push!(runtime_minutes_1, replace(i, \"NA\" => \"\"))\n",
    "end\n",
    "\n",
    "runningtime = []\n",
    "for i in runtime_minutes_1\n",
    "    push!(runningtime, replace(i, \"\\\\N\" => \"\"))\n",
    "end"
   ]
  },
  {
   "cell_type": "code",
   "execution_count": 11,
   "metadata": {},
   "outputs": [],
   "source": [
    "# Deleting 'NA', '/N' data inside of the column 6\n",
    "isadult = movie_data_julia[!,6]\n",
    "\n",
    "adult_able = []\n",
    "for i in isadult\n",
    "    push!(adult_able, replace(i, \"NA\" => \"\"))\n",
    "end"
   ]
  },
  {
   "cell_type": "code",
   "execution_count": 12,
   "metadata": {},
   "outputs": [],
   "source": [
    "# Deleting 'NA', '/N' data inside of the column 7\n",
    "genres_type = movie_data_julia[!,7]\n",
    "\n",
    "genres_type_1 = []\n",
    "for i in genres_type\n",
    "    push!(genres_type_1, replace(i, \"NA\" => \"\"))\n",
    "end\n",
    "\n",
    "genre = []\n",
    "for i in genres_type_1\n",
    "    push!(genre, replace(i, \"\\\\N\" => \"\"))\n",
    "end"
   ]
  },
  {
   "cell_type": "code",
   "execution_count": 13,
   "metadata": {},
   "outputs": [],
   "source": [
    "# Deleting 'NA', '/N' data inside of the column 8\n",
    "director = movie_data_julia[!,8]\n",
    "\n",
    "director_1 = []\n",
    "for i in director\n",
    "    push!(director_1, replace(i, \"NA\" => \"\"))\n",
    "end\n",
    "\n",
    "movie_director = []\n",
    "for i in director_1\n",
    "    push!(movie_director, replace(i, \"\\\\N\" => \"\"))\n",
    "end"
   ]
  },
  {
   "cell_type": "code",
   "execution_count": 14,
   "metadata": {},
   "outputs": [],
   "source": [
    "# Deleting 'NA', '/N' data inside of the column 9\n",
    "prime_director = movie_data_julia[!,9]\n",
    "\n",
    "director_name = []\n",
    "for i in prime_director\n",
    "    push!(director_name, replace(i, \"NA\" => \"\"))\n",
    "end"
   ]
  },
  {
   "cell_type": "code",
   "execution_count": 15,
   "metadata": {},
   "outputs": [],
   "source": [
    "# Deleting 'NA', '/N' data inside of the column 10\n",
    "average_rating = movie_data_julia[!,10]\n",
    "\n",
    "ave_rating = []\n",
    "for i in average_rating\n",
    "    push!(ave_rating, replace(i, \"NA\" => \"\"))\n",
    "end"
   ]
  },
  {
   "cell_type": "code",
   "execution_count": 16,
   "metadata": {},
   "outputs": [],
   "source": [
    "# Deleting 'NA', '/N' data inside of the column 11\n",
    "num_votes = movie_data_julia[!,11]\n",
    "\n",
    "votes = []\n",
    "for i in num_votes\n",
    "    push!(votes, replace(i, \"NA\" => \"\"))\n",
    "end"
   ]
  },
  {
   "cell_type": "code",
   "execution_count": 17,
   "metadata": {
    "collapsed": true,
    "jupyter": {
     "outputs_hidden": true
    }
   },
   "outputs": [
    {
     "data": {
      "text/plain": [
       "5679-element Array{Int64,1}:\n",
       " 109843390\n",
       "  74566042\n",
       "  21971021\n",
       "  17329337\n",
       "     19800\n",
       "  32955399\n",
       " 134639780\n",
       "  39233233\n",
       "  38358392\n",
       "  16566235\n",
       "   1237615\n",
       "  52987754\n",
       "  35472739\n",
       "         ⋮\n",
       "         0\n",
       "  17121823\n",
       "    437089\n",
       "     26007\n",
       "         0\n",
       "   9297407\n",
       "    528731\n",
       "   9696537\n",
       "  23271741\n",
       " 484873045\n",
       "    357687\n",
       " 203671625"
      ]
     },
     "execution_count": 17,
     "metadata": {},
     "output_type": "execute_result"
    }
   ],
   "source": [
    "# Deleting 'NA', '/N' data inside of the column 12 ~ 14\n",
    "ranking = movie_data_julia[!,12]\n",
    "dom_revenue = movie_data_julia[!,13]\n",
    "int_revenue = movie_data_julia[!,14]"
   ]
  },
  {
   "cell_type": "code",
   "execution_count": 18,
   "metadata": {},
   "outputs": [
    {
     "name": "stdout",
     "output_type": "stream",
     "text": [
      "Int64[]\n",
      "Int64[]\n"
     ]
    }
   ],
   "source": [
    "# To check that deleting process has done properly.\n",
    "# The below code are for only 'movieID', we need check it every column names\n",
    "println(findall( x->(x == \"NA\"), movieID))\n",
    "println(findall( x->(x == \"\\\\N\"), movieID)) "
   ]
  },
  {
   "cell_type": "code",
   "execution_count": 19,
   "metadata": {
    "collapsed": true,
    "jupyter": {
     "outputs_hidden": true
    }
   },
   "outputs": [
    {
     "data": {
      "text/html": [
       "<table class=\"data-frame\"><thead><tr><th></th><th>movieID</th><th>mainTitle</th><th>subTitle</th><th>releaseYear</th></tr><tr><th></th><th>Any</th><th>Any</th><th>Any</th><th>Int64</th></tr></thead><tbody><p>5,679 rows × 14 columns (omitted printing of 10 columns)</p><tr><th>1</th><td>tt4064028</td><td>Hoodwinked</td><td></td><td>2006</td></tr><tr><th>2</th><td>tt0401784</td><td>Bend it Like Beckham</td><td></td><td>2003</td></tr><tr><th>3</th><td>tt4994952</td><td>Black or White</td><td></td><td>2015</td></tr><tr><th>4</th><td>tt1517098</td><td>Sunshine Cleaning</td><td></td><td>2009</td></tr><tr><th>5</th><td>tt5014406</td><td>The Journey</td><td></td><td>2003</td></tr><tr><th>6</th><td>tt5160558</td><td>88 Minutes</td><td></td><td>2008</td></tr><tr><th>7</th><td>tt5173200</td><td>The Best Exotic Marigold Hotel</td><td></td><td>2012</td></tr><tr><th>8</th><td>tt5210194</td><td>Brooklyn's Finest</td><td></td><td>2010</td></tr><tr><th>9</th><td>tt5262674</td><td>Ex Machina</td><td></td><td>2015</td></tr><tr><th>10</th><td>tt5449004</td><td>Mindhunters</td><td></td><td>2005</td></tr><tr><th>11</th><td>tt5449860</td><td>Slow Burn</td><td></td><td>2007</td></tr><tr><th>12</th><td>tt1571569</td><td>Defiance</td><td></td><td>2009</td></tr><tr><th>13</th><td>tt1584804</td><td>Crank 2</td><td>High Voltage</td><td>2009</td></tr><tr><th>14</th><td>tt5923204</td><td>Frances Ha</td><td></td><td>2013</td></tr><tr><th>15</th><td>tt5928532</td><td>Eden</td><td></td><td>2016</td></tr><tr><th>16</th><td>tt6020556</td><td>Show Me</td><td></td><td>2005</td></tr><tr><th>17</th><td>tt6042478</td><td>Still Alice</td><td></td><td>2015</td></tr><tr><th>18</th><td>tt6049430</td><td>Testament of Youth</td><td></td><td>2015</td></tr><tr><th>19</th><td>tt6051948</td><td>Flower</td><td></td><td>2018</td></tr><tr><th>20</th><td>tt1609781</td><td>D.E.B.S.</td><td></td><td>2005</td></tr><tr><th>21</th><td>tt0452999</td><td>May</td><td></td><td>2003</td></tr><tr><th>22</th><td>tt0309529</td><td>Dead Alive</td><td></td><td>1993</td></tr><tr><th>23</th><td>tt8115904</td><td>Eddie the Eagle</td><td></td><td>2016</td></tr><tr><th>24</th><td>tt1723611</td><td>Solitary Man</td><td></td><td>2010</td></tr><tr><th>25</th><td>tt0487897</td><td>Dreamer</td><td>Inspired by a True Story</td><td>2005</td></tr><tr><th>26</th><td>tt1781967</td><td>Agora</td><td></td><td>2010</td></tr><tr><th>27</th><td>tt0495815</td><td>House of D</td><td></td><td>2005</td></tr><tr><th>28</th><td>tt2010510</td><td>Newlyweds</td><td></td><td>2012</td></tr><tr><th>29</th><td>tt0302224</td><td>24 7</td><td>Twenty Four Seven</td><td>1998</td></tr><tr><th>30</th><td>tt3504988</td><td>The Place Beyond the Pines</td><td></td><td>2013</td></tr><tr><th>&vellip;</th><td>&vellip;</td><td>&vellip;</td><td>&vellip;</td><td>&vellip;</td></tr></tbody></table>"
      ],
      "text/latex": [
       "\\begin{tabular}{r|ccccc}\n",
       "\t& movieID & mainTitle & subTitle & releaseYear & \\\\\n",
       "\t\\hline\n",
       "\t& Any & Any & Any & Int64 & \\\\\n",
       "\t\\hline\n",
       "\t1 & tt4064028 & Hoodwinked &  & 2006 & $\\dots$ \\\\\n",
       "\t2 & tt0401784 & Bend it Like Beckham &  & 2003 & $\\dots$ \\\\\n",
       "\t3 & tt4994952 & Black or White &  & 2015 & $\\dots$ \\\\\n",
       "\t4 & tt1517098 & Sunshine Cleaning &  & 2009 & $\\dots$ \\\\\n",
       "\t5 & tt5014406 & The Journey &  & 2003 & $\\dots$ \\\\\n",
       "\t6 & tt5160558 & 88 Minutes &  & 2008 & $\\dots$ \\\\\n",
       "\t7 & tt5173200 & The Best Exotic Marigold Hotel &  & 2012 & $\\dots$ \\\\\n",
       "\t8 & tt5210194 & Brooklyn's Finest &  & 2010 & $\\dots$ \\\\\n",
       "\t9 & tt5262674 & Ex Machina &  & 2015 & $\\dots$ \\\\\n",
       "\t10 & tt5449004 & Mindhunters &  & 2005 & $\\dots$ \\\\\n",
       "\t11 & tt5449860 & Slow Burn &  & 2007 & $\\dots$ \\\\\n",
       "\t12 & tt1571569 & Defiance &  & 2009 & $\\dots$ \\\\\n",
       "\t13 & tt1584804 & Crank 2 & High Voltage & 2009 & $\\dots$ \\\\\n",
       "\t14 & tt5923204 & Frances Ha &  & 2013 & $\\dots$ \\\\\n",
       "\t15 & tt5928532 & Eden &  & 2016 & $\\dots$ \\\\\n",
       "\t16 & tt6020556 & Show Me &  & 2005 & $\\dots$ \\\\\n",
       "\t17 & tt6042478 & Still Alice &  & 2015 & $\\dots$ \\\\\n",
       "\t18 & tt6049430 & Testament of Youth &  & 2015 & $\\dots$ \\\\\n",
       "\t19 & tt6051948 & Flower &  & 2018 & $\\dots$ \\\\\n",
       "\t20 & tt1609781 & D.E.B.S. &  & 2005 & $\\dots$ \\\\\n",
       "\t21 & tt0452999 & May &  & 2003 & $\\dots$ \\\\\n",
       "\t22 & tt0309529 & Dead Alive &  & 1993 & $\\dots$ \\\\\n",
       "\t23 & tt8115904 & Eddie the Eagle &  & 2016 & $\\dots$ \\\\\n",
       "\t24 & tt1723611 & Solitary Man &  & 2010 & $\\dots$ \\\\\n",
       "\t25 & tt0487897 & Dreamer & Inspired by a True Story & 2005 & $\\dots$ \\\\\n",
       "\t26 & tt1781967 & Agora &  & 2010 & $\\dots$ \\\\\n",
       "\t27 & tt0495815 & House of D &  & 2005 & $\\dots$ \\\\\n",
       "\t28 & tt2010510 & Newlyweds &  & 2012 & $\\dots$ \\\\\n",
       "\t29 & tt0302224 & 24 7 & Twenty Four Seven & 1998 & $\\dots$ \\\\\n",
       "\t30 & tt3504988 & The Place Beyond the Pines &  & 2013 & $\\dots$ \\\\\n",
       "\t$\\dots$ & $\\dots$ & $\\dots$ & $\\dots$ & $\\dots$ &  \\\\\n",
       "\\end{tabular}\n"
      ],
      "text/plain": [
       "5679×14 DataFrame. Omitted printing of 11 columns\n",
       "│ Row  │ movieID   │ mainTitle                            │ subTitle │\n",
       "│      │ \u001b[90mAny\u001b[39m       │ \u001b[90mAny\u001b[39m                                  │ \u001b[90mAny\u001b[39m      │\n",
       "├──────┼───────────┼──────────────────────────────────────┼──────────┤\n",
       "│ 1    │ tt4064028 │ Hoodwinked                           │          │\n",
       "│ 2    │ tt0401784 │ Bend it Like Beckham                 │          │\n",
       "│ 3    │ tt4994952 │ Black or White                       │          │\n",
       "│ 4    │ tt1517098 │ Sunshine Cleaning                    │          │\n",
       "│ 5    │ tt5014406 │ The Journey                          │          │\n",
       "│ 6    │ tt5160558 │ 88 Minutes                           │          │\n",
       "│ 7    │ tt5173200 │ The Best Exotic Marigold Hotel       │          │\n",
       "│ 8    │ tt5210194 │ Brooklyn's Finest                    │          │\n",
       "│ 9    │ tt5262674 │ Ex Machina                           │          │\n",
       "│ 10   │ tt5449004 │ Mindhunters                          │          │\n",
       "⋮\n",
       "│ 5669 │           │ The Lost City of Z                   │          │\n",
       "│ 5670 │           │ Song One                             │          │\n",
       "│ 5671 │           │ Lake of Fire                         │          │\n",
       "│ 5672 │           │ Slacker Uprising                     │          │\n",
       "│ 5673 │           │ Serbuan maut                         │          │\n",
       "│ 5674 │           │ The Reluctant Fundamentalist         │          │\n",
       "│ 5675 │           │ Saul fia                             │          │\n",
       "│ 5676 │           │ La misma luna                        │          │\n",
       "│ 5677 │           │ Les Intouchables                     │          │\n",
       "│ 5678 │           │ The Young and Prodigious T.S. Spivet │          │\n",
       "│ 5679 │           │ A Dog?\\x80?s Purpose                 │          │"
      ]
     },
     "execution_count": 19,
     "metadata": {},
     "output_type": "execute_result"
    }
   ],
   "source": [
    "# To make a dataframe using deleted lists\n",
    "movie_data_julia_step2 = DataFrame(movieID = movieID, \n",
    "    mainTitle = title_main,\n",
    "    subTitle = title_sub,\n",
    "    releaseYear = year,\n",
    "    runTime = runningtime,\n",
    "    overAdult = adult_able,\n",
    "    genreType = genre,\n",
    "    directorCode = movie_director,\n",
    "    directorName = director_name,\n",
    "    averageRating = ave_rating,\n",
    "    voteCounts = votes,\n",
    "    rankOrder = ranking,\n",
    "    domesticGross = dom_revenue,\n",
    "    worldGross = int_revenue)"
   ]
  },
  {
   "cell_type": "markdown",
   "metadata": {},
   "source": [
    "#### Even though,\n",
    "We can do make a plot right now, however, there is an opportunity that we can make some valuable variables from given columns. Thus, we will do it.\n",
    "\n",
    "#### 3. Creating new columns\n",
    "\n",
    "Creating new columns for analysing easily.\n",
    "Count how many words in the main title\n",
    "Count how many words in the subtitle\n",
    "To sum calculated two columns\n",
    "Changing a total gross's scale for plotting\n",
    "Separating a data inside of the 'genre' to find representative genre\n",
    "Counting genre complexity: if some movie has two more genres combined, we assume that it is more complex"
   ]
  },
  {
   "cell_type": "code",
   "execution_count": 20,
   "metadata": {},
   "outputs": [],
   "source": [
    "# Count how many words in the main title\n",
    "main_title = movie_data_julia_step2[!,2]\n",
    "\n",
    "main_title_counts = []\n",
    "for title in main_title\n",
    "    if title === missing\n",
    "        push!(main_title_counts, 0)\n",
    "    else\n",
    "        push!(main_title_counts, Int64(length(split(title))))\n",
    "    end\n",
    "end\n",
    "\n",
    "# Count how many words in the subtitle\n",
    "sub_title = movie_data_julia_step2[!,3]\n",
    "\n",
    "sub_title_counts = []\n",
    "for title in sub_title\n",
    "    if title === missing\n",
    "        push!(sub_title_counts, 0)\n",
    "    else\n",
    "        push!(sub_title_counts, Int64(length(split(title))))\n",
    "    end\n",
    "end\n",
    "\n",
    "# To sum the above calculated two columns\n",
    "full_title_words_counts = []\n",
    "j = 1\n",
    "for i in main_title_counts\n",
    "    push!(full_title_words_counts, i + sub_title_counts[j])\n",
    "    j = j + 1    \n",
    "end\n",
    "\n",
    "# To sum domestic revenue and worldwide revenue for total revenue\n",
    "\n",
    "domestic = movie_data_julia_step2[!,13]\n",
    "worldwide = movie_data_julia_step2[!,14]\n",
    "\n",
    "total_gorss = []\n",
    "j = 1\n",
    "for i in domestic\n",
    "    push!(total_gorss, i + worldwide[j])\n",
    "    j = j + 1    \n",
    "end\n",
    "\n",
    "# Separating a data inside of the 'genre' to find the representative genre\n",
    "types = movie_data_julia_step2[!,7]\n",
    "\n",
    "first_genre = []\n",
    "for genre in types\n",
    "    if genre === missing\n",
    "        push!(first_genre, \"\")\n",
    "    else\n",
    "        push!(first_genre, split(genre,\",\")[1])\n",
    "    end\n",
    "end\n",
    "\n",
    "# Counting genre complexity: if some movie has two more genres combined, we assume that it is more complex\n",
    "genre_counts = []\n",
    "for i in movie_data_julia_step2[!,7]\n",
    "    if i !== missing\n",
    "        push!(genre_counts, length(split(i,\",\")))\n",
    "    else\n",
    "        push!(genre_counts, 0)\n",
    "    end\n",
    "end\n"
   ]
  },
  {
   "cell_type": "code",
   "execution_count": 21,
   "metadata": {
    "collapsed": true,
    "jupyter": {
     "outputs_hidden": true
    }
   },
   "outputs": [
    {
     "data": {
      "text/html": [
       "<table class=\"data-frame\"><thead><tr><th></th><th>movieID</th><th>mainTitle</th><th>subTitle</th><th>fullWordCounts</th></tr><tr><th></th><th>Any</th><th>Any</th><th>Any</th><th>Any</th></tr></thead><tbody><p>5,679 rows × 18 columns (omitted printing of 14 columns)</p><tr><th>1</th><td>tt4064028</td><td>Hoodwinked</td><td></td><td>1</td></tr><tr><th>2</th><td>tt0401784</td><td>Bend it Like Beckham</td><td></td><td>4</td></tr><tr><th>3</th><td>tt4994952</td><td>Black or White</td><td></td><td>3</td></tr><tr><th>4</th><td>tt1517098</td><td>Sunshine Cleaning</td><td></td><td>2</td></tr><tr><th>5</th><td>tt5014406</td><td>The Journey</td><td></td><td>2</td></tr><tr><th>6</th><td>tt5160558</td><td>88 Minutes</td><td></td><td>2</td></tr><tr><th>7</th><td>tt5173200</td><td>The Best Exotic Marigold Hotel</td><td></td><td>5</td></tr><tr><th>8</th><td>tt5210194</td><td>Brooklyn's Finest</td><td></td><td>2</td></tr><tr><th>9</th><td>tt5262674</td><td>Ex Machina</td><td></td><td>2</td></tr><tr><th>10</th><td>tt5449004</td><td>Mindhunters</td><td></td><td>1</td></tr><tr><th>11</th><td>tt5449860</td><td>Slow Burn</td><td></td><td>2</td></tr><tr><th>12</th><td>tt1571569</td><td>Defiance</td><td></td><td>1</td></tr><tr><th>13</th><td>tt1584804</td><td>Crank 2</td><td>High Voltage</td><td>4</td></tr><tr><th>14</th><td>tt5923204</td><td>Frances Ha</td><td></td><td>2</td></tr><tr><th>15</th><td>tt5928532</td><td>Eden</td><td></td><td>1</td></tr><tr><th>16</th><td>tt6020556</td><td>Show Me</td><td></td><td>2</td></tr><tr><th>17</th><td>tt6042478</td><td>Still Alice</td><td></td><td>2</td></tr><tr><th>18</th><td>tt6049430</td><td>Testament of Youth</td><td></td><td>3</td></tr><tr><th>19</th><td>tt6051948</td><td>Flower</td><td></td><td>1</td></tr><tr><th>20</th><td>tt1609781</td><td>D.E.B.S.</td><td></td><td>1</td></tr><tr><th>21</th><td>tt0452999</td><td>May</td><td></td><td>1</td></tr><tr><th>22</th><td>tt0309529</td><td>Dead Alive</td><td></td><td>2</td></tr><tr><th>23</th><td>tt8115904</td><td>Eddie the Eagle</td><td></td><td>3</td></tr><tr><th>24</th><td>tt1723611</td><td>Solitary Man</td><td></td><td>2</td></tr><tr><th>25</th><td>tt0487897</td><td>Dreamer</td><td>Inspired by a True Story</td><td>6</td></tr><tr><th>26</th><td>tt1781967</td><td>Agora</td><td></td><td>1</td></tr><tr><th>27</th><td>tt0495815</td><td>House of D</td><td></td><td>3</td></tr><tr><th>28</th><td>tt2010510</td><td>Newlyweds</td><td></td><td>1</td></tr><tr><th>29</th><td>tt0302224</td><td>24 7</td><td>Twenty Four Seven</td><td>5</td></tr><tr><th>30</th><td>tt3504988</td><td>The Place Beyond the Pines</td><td></td><td>5</td></tr><tr><th>&vellip;</th><td>&vellip;</td><td>&vellip;</td><td>&vellip;</td><td>&vellip;</td></tr></tbody></table>"
      ],
      "text/latex": [
       "\\begin{tabular}{r|ccccc}\n",
       "\t& movieID & mainTitle & subTitle & fullWordCounts & \\\\\n",
       "\t\\hline\n",
       "\t& Any & Any & Any & Any & \\\\\n",
       "\t\\hline\n",
       "\t1 & tt4064028 & Hoodwinked &  & 1 & $\\dots$ \\\\\n",
       "\t2 & tt0401784 & Bend it Like Beckham &  & 4 & $\\dots$ \\\\\n",
       "\t3 & tt4994952 & Black or White &  & 3 & $\\dots$ \\\\\n",
       "\t4 & tt1517098 & Sunshine Cleaning &  & 2 & $\\dots$ \\\\\n",
       "\t5 & tt5014406 & The Journey &  & 2 & $\\dots$ \\\\\n",
       "\t6 & tt5160558 & 88 Minutes &  & 2 & $\\dots$ \\\\\n",
       "\t7 & tt5173200 & The Best Exotic Marigold Hotel &  & 5 & $\\dots$ \\\\\n",
       "\t8 & tt5210194 & Brooklyn's Finest &  & 2 & $\\dots$ \\\\\n",
       "\t9 & tt5262674 & Ex Machina &  & 2 & $\\dots$ \\\\\n",
       "\t10 & tt5449004 & Mindhunters &  & 1 & $\\dots$ \\\\\n",
       "\t11 & tt5449860 & Slow Burn &  & 2 & $\\dots$ \\\\\n",
       "\t12 & tt1571569 & Defiance &  & 1 & $\\dots$ \\\\\n",
       "\t13 & tt1584804 & Crank 2 & High Voltage & 4 & $\\dots$ \\\\\n",
       "\t14 & tt5923204 & Frances Ha &  & 2 & $\\dots$ \\\\\n",
       "\t15 & tt5928532 & Eden &  & 1 & $\\dots$ \\\\\n",
       "\t16 & tt6020556 & Show Me &  & 2 & $\\dots$ \\\\\n",
       "\t17 & tt6042478 & Still Alice &  & 2 & $\\dots$ \\\\\n",
       "\t18 & tt6049430 & Testament of Youth &  & 3 & $\\dots$ \\\\\n",
       "\t19 & tt6051948 & Flower &  & 1 & $\\dots$ \\\\\n",
       "\t20 & tt1609781 & D.E.B.S. &  & 1 & $\\dots$ \\\\\n",
       "\t21 & tt0452999 & May &  & 1 & $\\dots$ \\\\\n",
       "\t22 & tt0309529 & Dead Alive &  & 2 & $\\dots$ \\\\\n",
       "\t23 & tt8115904 & Eddie the Eagle &  & 3 & $\\dots$ \\\\\n",
       "\t24 & tt1723611 & Solitary Man &  & 2 & $\\dots$ \\\\\n",
       "\t25 & tt0487897 & Dreamer & Inspired by a True Story & 6 & $\\dots$ \\\\\n",
       "\t26 & tt1781967 & Agora &  & 1 & $\\dots$ \\\\\n",
       "\t27 & tt0495815 & House of D &  & 3 & $\\dots$ \\\\\n",
       "\t28 & tt2010510 & Newlyweds &  & 1 & $\\dots$ \\\\\n",
       "\t29 & tt0302224 & 24 7 & Twenty Four Seven & 5 & $\\dots$ \\\\\n",
       "\t30 & tt3504988 & The Place Beyond the Pines &  & 5 & $\\dots$ \\\\\n",
       "\t$\\dots$ & $\\dots$ & $\\dots$ & $\\dots$ & $\\dots$ &  \\\\\n",
       "\\end{tabular}\n"
      ],
      "text/plain": [
       "5679×18 DataFrame. Omitted printing of 15 columns\n",
       "│ Row  │ movieID   │ mainTitle                            │ subTitle │\n",
       "│      │ \u001b[90mAny\u001b[39m       │ \u001b[90mAny\u001b[39m                                  │ \u001b[90mAny\u001b[39m      │\n",
       "├──────┼───────────┼──────────────────────────────────────┼──────────┤\n",
       "│ 1    │ tt4064028 │ Hoodwinked                           │          │\n",
       "│ 2    │ tt0401784 │ Bend it Like Beckham                 │          │\n",
       "│ 3    │ tt4994952 │ Black or White                       │          │\n",
       "│ 4    │ tt1517098 │ Sunshine Cleaning                    │          │\n",
       "│ 5    │ tt5014406 │ The Journey                          │          │\n",
       "│ 6    │ tt5160558 │ 88 Minutes                           │          │\n",
       "│ 7    │ tt5173200 │ The Best Exotic Marigold Hotel       │          │\n",
       "│ 8    │ tt5210194 │ Brooklyn's Finest                    │          │\n",
       "│ 9    │ tt5262674 │ Ex Machina                           │          │\n",
       "│ 10   │ tt5449004 │ Mindhunters                          │          │\n",
       "⋮\n",
       "│ 5669 │           │ The Lost City of Z                   │          │\n",
       "│ 5670 │           │ Song One                             │          │\n",
       "│ 5671 │           │ Lake of Fire                         │          │\n",
       "│ 5672 │           │ Slacker Uprising                     │          │\n",
       "│ 5673 │           │ Serbuan maut                         │          │\n",
       "│ 5674 │           │ The Reluctant Fundamentalist         │          │\n",
       "│ 5675 │           │ Saul fia                             │          │\n",
       "│ 5676 │           │ La misma luna                        │          │\n",
       "│ 5677 │           │ Les Intouchables                     │          │\n",
       "│ 5678 │           │ The Young and Prodigious T.S. Spivet │          │\n",
       "│ 5679 │           │ A Dog?\\x80?s Purpose                 │          │"
      ]
     },
     "execution_count": 21,
     "metadata": {},
     "output_type": "execute_result"
    }
   ],
   "source": [
    "# Insert the 'full words count' of the movie into the data frame\n",
    "insertcols!(movie_data_julia_step2, 4, fullWordCounts = full_title_words_counts)\n",
    "\n",
    "# Insert the 'total revenue' of the movie into the data frame\n",
    "insertcols!(movie_data_julia_step2, 16, totalRevenue = total_gorss)\n",
    "\n",
    "# Insert the 'main genre' of the movie into the data frame\n",
    "insertcols!(movie_data_julia_step2, 9, mainGenre = first_genre)\n",
    "\n",
    "# Insert the 'genre complexity' of the movie into the data frame\n",
    "insertcols!(movie_data_julia_step2, 10, genreComplexity = genre_counts)"
   ]
  },
  {
   "cell_type": "code",
   "execution_count": 22,
   "metadata": {},
   "outputs": [
    {
     "name": "stdout",
     "output_type": "stream",
     "text": [
      "2×18 DataFrame\n",
      "│ Row │ movieID   │ mainTitle            │ subTitle │ fullWordCounts │\n",
      "│     │ \u001b[90mAny\u001b[39m       │ \u001b[90mAny\u001b[39m                  │ \u001b[90mAny\u001b[39m      │ \u001b[90mAny\u001b[39m            │\n",
      "├─────┼───────────┼──────────────────────┼──────────┼────────────────┤\n",
      "│ 1   │ tt4064028 │ Hoodwinked           │          │ 1              │\n",
      "│ 2   │ tt0401784 │ Bend it Like Beckham │          │ 4              │\n",
      "\n",
      "│ Row │ releaseYear │ runTime │ overAdult │ genreType         │ mainGenre   │\n",
      "│     │ \u001b[90mInt64\u001b[39m       │ \u001b[90mAny\u001b[39m     │ \u001b[90mAny\u001b[39m       │ \u001b[90mAny\u001b[39m               │ \u001b[90mAny\u001b[39m         │\n",
      "├─────┼─────────────┼─────────┼───────────┼───────────────────┼─────────────┤\n",
      "│ 1   │ 2006        │ 76      │ 0         │                   │             │\n",
      "│ 2   │ 2003        │ 15      │ 0         │ Documentary,Short │ Documentary │\n",
      "\n",
      "│ Row │ genreComplexity │ directorCode │ directorName │ averageRating │\n",
      "│     │ \u001b[90mAny\u001b[39m             │ \u001b[90mAny\u001b[39m          │ \u001b[90mAny\u001b[39m          │ \u001b[90mAny\u001b[39m           │\n",
      "├─────┼─────────────────┼──────────────┼──────────────┼───────────────┤\n",
      "│ 1   │ 1               │              │              │               │\n",
      "│ 2   │ 2               │              │              │ 6.7           │\n",
      "\n",
      "│ Row │ voteCounts │ rankOrder │ domesticGross │ worldGross │ totalRevenue │\n",
      "│     │ \u001b[90mAny\u001b[39m        │ \u001b[90mInt64\u001b[39m     │ \u001b[90mInt64\u001b[39m         │ \u001b[90mInt64\u001b[39m      │ \u001b[90mAny\u001b[39m          │\n",
      "├─────┼────────────┼───────────┼───────────────┼────────────┼──────────────┤\n",
      "│ 1   │            │ 2885      │ 51386611      │ 109843390  │ 161230001    │\n",
      "│ 2   │ 46         │ 4253      │ 32543449      │ 74566042   │ 107109491    │"
     ]
    }
   ],
   "source": [
    "# To check that the columns are positioned properly for wrangling task\n",
    "show(first(movie_data_julia_step2,2), allcols=true, splitcols=true)"
   ]
  },
  {
   "cell_type": "markdown",
   "metadata": {},
   "source": [
    "#### Suddenly,\n",
    "We just realised that there is no budget data in the above data frame we made. Can you remember that we had mentioned at the beginning of step 1 which is \"In this stage........the budget column was deleted. It was a hidden problem we had made in the next stage.\". We have to address this problem.\n",
    "We are going to use R again to deal with that problem.\n",
    "\n",
    "#### First of all, save the above data frame into CSV file to read in R Notebook."
   ]
  },
  {
   "cell_type": "code",
   "execution_count": 23,
   "metadata": {},
   "outputs": [
    {
     "data": {
      "text/plain": [
       "\"movie_data_step_3_Julia.csv\""
      ]
     },
     "execution_count": 23,
     "metadata": {},
     "output_type": "execute_result"
    }
   ],
   "source": [
    "# Storing it\n",
    "CSV.write(\"movie_data_step_3_Julia.csv\", movie_data_julia_step2)"
   ]
  },
  {
   "cell_type": "markdown",
   "metadata": {},
   "source": [
    "#### Sorry..\n",
    "We shouldn't have delimited title data by \":\" using Excel. \n",
    "While It was a useless process, It was one of our excellent discovery\n",
    "\n",
    "#### find a file name 'project_step_3(data_analysing)_R'"
   ]
  },
  {
   "cell_type": "code",
   "execution_count": null,
   "metadata": {},
   "outputs": [],
   "source": []
  }
 ],
 "metadata": {
  "kernelspec": {
   "display_name": "Julia 1.1.1",
   "language": "julia",
   "name": "julia-1.1"
  },
  "language_info": {
   "file_extension": ".jl",
   "mimetype": "application/julia",
   "name": "julia",
   "version": "1.1.1"
  }
 },
 "nbformat": 4,
 "nbformat_minor": 4
}
