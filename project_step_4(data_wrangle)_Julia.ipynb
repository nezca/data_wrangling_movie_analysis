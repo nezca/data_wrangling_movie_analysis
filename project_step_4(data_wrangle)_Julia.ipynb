{
 "cells": [
  {
   "cell_type": "markdown",
   "metadata": {},
   "source": [
    "### Step_4. Data wrangling_2\n",
    "#### 1. Creating new columns\n",
    "\n",
    "We are going to make some new columns for categorising and rescaling a big number to read easily."
   ]
  },
  {
   "cell_type": "code",
   "execution_count": 1,
   "metadata": {},
   "outputs": [],
   "source": [
    "# Call relevant libraries\n",
    "using DataFrames, CSV"
   ]
  },
  {
   "cell_type": "code",
   "execution_count": 2,
   "metadata": {
    "collapsed": true,
    "jupyter": {
     "outputs_hidden": true
    }
   },
   "outputs": [
    {
     "data": {
      "text/html": [
       "<table class=\"data-frame\"><thead><tr><th></th><th>Rank</th><th>movieID</th><th>mainTitle</th><th>subTitle</th></tr><tr><th></th><th>Int64</th><th>String</th><th>String</th><th>String</th></tr></thead><tbody><p>5,679 rows × 24 columns (omitted printing of 20 columns)</p><tr><th>1</th><td>1</td><td>tt0499549</td><td>Avatar</td><td>NA</td></tr><tr><th>2</th><td>2</td><td>tt1298650</td><td>Pirates of the Caribbean</td><td>On Stranger Tides</td></tr><tr><th>3</th><td>3</td><td>tt4154796</td><td>Avengers</td><td>Endgame</td></tr><tr><th>4</th><td>4</td><td>tt6565702</td><td>Dark Phoenix</td><td>NA</td></tr><tr><th>5</th><td>5</td><td>tt2395427</td><td>Avengers</td><td>Age of Ultron</td></tr><tr><th>6</th><td>6</td><td>NA</td><td>Star Wars Ep. VIII</td><td>The Last Jedi</td></tr><tr><th>7</th><td>7</td><td>NA</td><td>Star Wars Ep. VII</td><td>The Force Awakens</td></tr><tr><th>8</th><td>8</td><td>tt4154756</td><td>Avengers</td><td>Infinity War</td></tr><tr><th>9</th><td>9</td><td>tt0449088</td><td>Pirates of the Caribbean</td><td>At World?\\x80?s End</td></tr><tr><th>10</th><td>10</td><td>tt0974015</td><td>Justice League</td><td>NA</td></tr><tr><th>11</th><td>11</td><td>tt2379713</td><td>Spectre</td><td>NA</td></tr><tr><th>12</th><td>12</td><td>tt1345836</td><td>The Dark Knight Rises</td><td>NA</td></tr><tr><th>13</th><td>13</td><td>tt6699860</td><td>Solo</td><td>A Star Wars Story</td></tr><tr><th>14</th><td>14</td><td>tt1210819</td><td>The Lone Ranger</td><td>NA</td></tr><tr><th>15</th><td>15</td><td>tt0401729</td><td>John Carter</td><td>NA</td></tr><tr><th>16</th><td>16</td><td>tt0398286</td><td>Tangled</td><td>NA</td></tr><tr><th>17</th><td>17</td><td>tt0413300</td><td>Spider-Man 3</td><td>NA</td></tr><tr><th>18</th><td>18</td><td>tt3498820</td><td>Captain America</td><td>Civil War</td></tr><tr><th>19</th><td>19</td><td>tt2975590</td><td>Batman v Superman</td><td>Dawn of Justice</td></tr><tr><th>20</th><td>20</td><td>tt0903624</td><td>The Hobbit</td><td>An Unexpected Journey</td></tr><tr><th>21</th><td>21</td><td>tt0417741</td><td>Harry Potter and the Half-Blood Prince</td><td>NA</td></tr><tr><th>22</th><td>22</td><td>tt1170358</td><td>The Hobbit</td><td>The Desolation of Smaug</td></tr><tr><th>23</th><td>23</td><td>tt2310332</td><td>The Hobbit</td><td>The Battle of the Five Armies</td></tr><tr><th>24</th><td>24</td><td>tt4630562</td><td>The Fate of the Furious</td><td>NA</td></tr><tr><th>25</th><td>25</td><td>tt0348150</td><td>Superman Returns</td><td>NA</td></tr><tr><th>26</th><td>26</td><td>tt1790809</td><td>Pirates of the Caribbean</td><td>Dead Men Tell No Tales</td></tr><tr><th>27</th><td>27</td><td>tt0830515</td><td>Quantum of Solace</td><td>NA</td></tr><tr><th>28</th><td>28</td><td>tt0848228</td><td>The Avengers</td><td>NA</td></tr><tr><th>29</th><td>29</td><td>tt0383574</td><td>Pirates of the Caribbean</td><td>Dead Man?\\x80?s Chest</td></tr><tr><th>30</th><td>30</td><td>tt0770828</td><td>Man of Steel</td><td>NA</td></tr><tr><th>&vellip;</th><td>&vellip;</td><td>&vellip;</td><td>&vellip;</td><td>&vellip;</td></tr></tbody></table>"
      ],
      "text/latex": [
       "\\begin{tabular}{r|ccccc}\n",
       "\t& Rank & movieID & mainTitle & subTitle & \\\\\n",
       "\t\\hline\n",
       "\t& Int64 & String & String & String & \\\\\n",
       "\t\\hline\n",
       "\t1 & 1 & tt0499549 & Avatar & NA & $\\dots$ \\\\\n",
       "\t2 & 2 & tt1298650 & Pirates of the Caribbean & On Stranger Tides & $\\dots$ \\\\\n",
       "\t3 & 3 & tt4154796 & Avengers & Endgame & $\\dots$ \\\\\n",
       "\t4 & 4 & tt6565702 & Dark Phoenix & NA & $\\dots$ \\\\\n",
       "\t5 & 5 & tt2395427 & Avengers & Age of Ultron & $\\dots$ \\\\\n",
       "\t6 & 6 & NA & Star Wars Ep. VIII & The Last Jedi & $\\dots$ \\\\\n",
       "\t7 & 7 & NA & Star Wars Ep. VII & The Force Awakens & $\\dots$ \\\\\n",
       "\t8 & 8 & tt4154756 & Avengers & Infinity War & $\\dots$ \\\\\n",
       "\t9 & 9 & tt0449088 & Pirates of the Caribbean & At World?\\textbackslash{}x80?s End & $\\dots$ \\\\\n",
       "\t10 & 10 & tt0974015 & Justice League & NA & $\\dots$ \\\\\n",
       "\t11 & 11 & tt2379713 & Spectre & NA & $\\dots$ \\\\\n",
       "\t12 & 12 & tt1345836 & The Dark Knight Rises & NA & $\\dots$ \\\\\n",
       "\t13 & 13 & tt6699860 & Solo & A Star Wars Story & $\\dots$ \\\\\n",
       "\t14 & 14 & tt1210819 & The Lone Ranger & NA & $\\dots$ \\\\\n",
       "\t15 & 15 & tt0401729 & John Carter & NA & $\\dots$ \\\\\n",
       "\t16 & 16 & tt0398286 & Tangled & NA & $\\dots$ \\\\\n",
       "\t17 & 17 & tt0413300 & Spider-Man 3 & NA & $\\dots$ \\\\\n",
       "\t18 & 18 & tt3498820 & Captain America & Civil War & $\\dots$ \\\\\n",
       "\t19 & 19 & tt2975590 & Batman v Superman & Dawn of Justice & $\\dots$ \\\\\n",
       "\t20 & 20 & tt0903624 & The Hobbit & An Unexpected Journey & $\\dots$ \\\\\n",
       "\t21 & 21 & tt0417741 & Harry Potter and the Half-Blood Prince & NA & $\\dots$ \\\\\n",
       "\t22 & 22 & tt1170358 & The Hobbit & The Desolation of Smaug & $\\dots$ \\\\\n",
       "\t23 & 23 & tt2310332 & The Hobbit & The Battle of the Five Armies & $\\dots$ \\\\\n",
       "\t24 & 24 & tt4630562 & The Fate of the Furious & NA & $\\dots$ \\\\\n",
       "\t25 & 25 & tt0348150 & Superman Returns & NA & $\\dots$ \\\\\n",
       "\t26 & 26 & tt1790809 & Pirates of the Caribbean & Dead Men Tell No Tales & $\\dots$ \\\\\n",
       "\t27 & 27 & tt0830515 & Quantum of Solace & NA & $\\dots$ \\\\\n",
       "\t28 & 28 & tt0848228 & The Avengers & NA & $\\dots$ \\\\\n",
       "\t29 & 29 & tt0383574 & Pirates of the Caribbean & Dead Man?\\textbackslash{}x80?s Chest & $\\dots$ \\\\\n",
       "\t30 & 30 & tt0770828 & Man of Steel & NA & $\\dots$ \\\\\n",
       "\t$\\dots$ & $\\dots$ & $\\dots$ & $\\dots$ & $\\dots$ &  \\\\\n",
       "\\end{tabular}\n"
      ],
      "text/plain": [
       "5679×24 DataFrame. Omitted printing of 21 columns\n",
       "│ Row  │ Rank  │ movieID   │ mainTitle                       │\n",
       "│      │ \u001b[90mInt64\u001b[39m │ \u001b[90mString\u001b[39m    │ \u001b[90mString\u001b[39m                          │\n",
       "├──────┼───────┼───────────┼─────────────────────────────────┤\n",
       "│ 1    │ 1     │ tt0499549 │ Avatar                          │\n",
       "│ 2    │ 2     │ tt1298650 │ Pirates of the Caribbean        │\n",
       "│ 3    │ 3     │ tt4154796 │ Avengers                        │\n",
       "│ 4    │ 4     │ tt6565702 │ Dark Phoenix                    │\n",
       "│ 5    │ 5     │ tt2395427 │ Avengers                        │\n",
       "│ 6    │ 6     │ NA        │ Star Wars Ep. VIII              │\n",
       "│ 7    │ 7     │ NA        │ Star Wars Ep. VII               │\n",
       "│ 8    │ 8     │ tt4154756 │ Avengers                        │\n",
       "│ 9    │ 9     │ tt0449088 │ Pirates of the Caribbean        │\n",
       "│ 10   │ 10    │ tt0974015 │ Justice League                  │\n",
       "⋮\n",
       "│ 5669 │ 5836  │ tt0481267 │ Bang                            │\n",
       "│ 5670 │ 5837  │ NA        │ The Rise and Fall of Miss Thang │\n",
       "│ 5671 │ 5838  │ NA        │ Family Motocross                │\n",
       "│ 5672 │ 5839  │ tt2010510 │ Newlyweds                       │\n",
       "│ 5673 │ 5840  │ NA        │ El Mariachi                     │\n",
       "│ 5674 │ 5841  │ tt0390384 │ Primer                          │\n",
       "│ 5675 │ 5842  │ NA        │ Cavite                          │\n",
       "│ 5676 │ 5845  │ NA        │ Following                       │\n",
       "│ 5677 │ 5846  │ NA        │ Return to the Land of Wonders   │\n",
       "│ 5678 │ 5847  │ NA        │ A Plague So Pleasant            │\n",
       "│ 5679 │ 5848  │ NA        │ My Date With Drew               │"
      ]
     },
     "execution_count": 2,
     "metadata": {},
     "output_type": "execute_result"
    }
   ],
   "source": [
    "# Read the \"movie_data_step_4_R.csv\" file\n",
    "movie_data_for_plot = CSV.read(\"movie_data_step_4_R.csv\")"
   ]
  },
  {
   "cell_type": "code",
   "execution_count": 3,
   "metadata": {
    "collapsed": true,
    "jupyter": {
     "outputs_hidden": true
    }
   },
   "outputs": [
    {
     "name": "stdout",
     "output_type": "stream",
     "text": [
      "2×18 DataFrame\n",
      "│ Row │ Rank  │ movieID   │ mainTitle                │ subTitle          │\n",
      "│     │ \u001b[90mInt64\u001b[39m │ \u001b[90mString\u001b[39m    │ \u001b[90mString\u001b[39m                   │ \u001b[90mString\u001b[39m            │\n",
      "├─────┼───────┼───────────┼──────────────────────────┼───────────────────┤\n",
      "│ 1   │ 1     │ tt0499549 │ Avatar                   │ NA                │\n",
      "│ 2   │ 2     │ tt1298650 │ Pirates of the Caribbean │ On Stranger Tides │\n",
      "\n",
      "│ Row │ fullWordCounts │ releaseYear │ runTime │ overAdult │\n",
      "│     │ \u001b[90mInt64\u001b[39m          │ \u001b[90mInt64\u001b[39m       │ \u001b[90mString\u001b[39m  │ \u001b[90mString\u001b[39m    │\n",
      "├─────┼────────────────┼─────────────┼─────────┼───────────┤\n",
      "│ 1   │ 1              │ 2009        │ 162     │ 0         │\n",
      "│ 2   │ 7              │ 2011        │ NA      │ NA        │\n",
      "\n",
      "│ Row │ genreType                │ mainGenre │ genreComplexity │ directorName  │\n",
      "│     │ \u001b[90mString\u001b[39m                   │ \u001b[90mString\u001b[39m    │ \u001b[90mInt64\u001b[39m           │ \u001b[90mString\u001b[39m        │\n",
      "├─────┼──────────────────────────┼───────────┼─────────────────┼───────────────┤\n",
      "│ 1   │ Action,Adventure,Fantasy │ Action    │ 3               │ James Cameron │\n",
      "│ 2   │ NA                       │ NA        │ 1               │ Rob Marshall  │\n",
      "\n",
      "│ Row │ ProductionBudget │ averageRating │ voteCounts │ domesticGross │\n",
      "│     │ \u001b[90mInt64\u001b[39m            │ \u001b[90mString\u001b[39m        │ \u001b[90mString\u001b[39m     │ \u001b[90mInt64\u001b[39m         │\n",
      "├─────┼──────────────────┼───────────────┼────────────┼───────────────┤\n",
      "│ 1   │ 425000000        │ 7.8           │ 1059406    │ 760507625     │\n",
      "│ 2   │ 410600000        │ 6.6           │ 453402     │ 241063875     │\n",
      "\n",
      "│ Row │ worldGross │ totalRevenue │\n",
      "│     │ \u001b[90mInt64\u001b[39m      │ \u001b[90mInt64\u001b[39m        │\n",
      "├─────┼────────────┼──────────────┤\n",
      "│ 1   │ 2789705275 │ 3550212900   │\n",
      "│ 2   │ 1045663875 │ 1286727750   │"
     ]
    }
   ],
   "source": [
    "# Selecting 18 columns and check that the columns are positioned properly for wrangling task\n",
    "step_7_plot_julia = movie_data_for_plot[:,[1, 2, 3, 4, 5, 6, 7, 8, 9, 10, 11, 13, 22, 14, 15, 17, 18, 19]]\n",
    "show(first(step_7_plot_julia,2), allcols=true, splitcols=true)"
   ]
  },
  {
   "cell_type": "code",
   "execution_count": 4,
   "metadata": {},
   "outputs": [],
   "source": [
    "# Categorising the year data every ten years.\n",
    "year_10s = [\"1910s\", \"1920s\", \"1930s\", \"1940s\", \"1950s\", \"1960s\", \"1970s\", \"1980s\", \"1990s\", \"2000s\", \"2010s\", \"2020s\"]\n",
    "\n",
    "year_by_10 = []\n",
    "for i in step_7_plot_julia[!,6]\n",
    "    if 1910 <= i < 1919\n",
    "        push!(year_by_10, year_10s[1])\n",
    "    elseif 1920 <= i < 1929\n",
    "        push!(year_by_10, year_10s[2])\n",
    "    elseif 1930 <= i < 1939\n",
    "        push!(year_by_10, year_10s[3])\n",
    "    elseif 1940 <= i < 1949\n",
    "        push!(year_by_10, year_10s[4])\n",
    "    elseif 1950 <= i < 1959\n",
    "        push!(year_by_10, year_10s[5])\n",
    "    elseif 1960 <= i < 1969\n",
    "        push!(year_by_10, year_10s[6])\n",
    "    elseif 1970 <= i < 1979\n",
    "        push!(year_by_10, year_10s[7])\n",
    "    elseif 1980 <= i < 1989\n",
    "        push!(year_by_10, year_10s[8])\n",
    "    elseif 1990 <= i < 1999\n",
    "        push!(year_by_10, year_10s[9])\n",
    "    elseif 2000 <= i < 2009\n",
    "        push!(year_by_10, year_10s[10])\n",
    "    elseif 2010 <= i < 2019\n",
    "        push!(year_by_10, year_10s[11])\n",
    "    else\n",
    "        push!(year_by_10, year_10s[12])\n",
    "    end\n",
    "end\n",
    "\n",
    "\n",
    "# In the data of 'isAdult' column, data is recorded by 0 or 1.\n",
    "# So to understand easily in the drawn graphs, data will be changed by a string data\n",
    "isAdult = [\"over 19\", \"below 19\"]\n",
    "\n",
    "allow_by_19 = []\n",
    "for i in step_7_plot_julia[!,8]\n",
    "    if i !== missing\n",
    "        if i == 1\n",
    "            push!(allow_by_19, isAdult[1])\n",
    "        else\n",
    "            push!(allow_by_19, isAdult[2])\n",
    "        end\n",
    "    else\n",
    "        push!(allow_by_19, missing)\n",
    "    end\n",
    "end\n",
    "\n",
    "# In the data of 'genre complexity' column, data is recorded from 1 to 4.\n",
    "# So to understand easily in the drawn graphs, data will be changed by a string data\n",
    "genreComplexity = [\"simple\", \"complicate\", \"complex\", \"chaotic\"]\n",
    "\n",
    "complexity_by_num = []\n",
    "for i in step_7_plot_julia[!,11]\n",
    "    if i !== missing\n",
    "        if i == 0\n",
    "            push!(complexity_by_num, genreComplexity[1])\n",
    "        elseif i == 1\n",
    "            push!(complexity_by_num, genreComplexity[2])\n",
    "        elseif i == 2\n",
    "            push!(complexity_by_num, genreComplexity[3])\n",
    "        else\n",
    "            push!(complexity_by_num, genreComplexity[4])\n",
    "        end\n",
    "    else\n",
    "        push!(complexity_by_num, missing)\n",
    "    end\n",
    "end"
   ]
  },
  {
   "cell_type": "markdown",
   "metadata": {},
   "source": [
    "#### In the case of money data, it's a too big number to read easily.\n",
    "So, we are going to do rescaling those data using dividing by million dollars."
   ]
  },
  {
   "cell_type": "code",
   "execution_count": 5,
   "metadata": {},
   "outputs": [],
   "source": [
    "# Rescale a budget data\n",
    "budget_by_million = []\n",
    "for i in step_7_plot_julia[!,13]\n",
    "    if i !== missing\n",
    "        if i > 0\n",
    "            push!(budget_by_million, i / 1000000)\n",
    "        else\n",
    "            push!(budget_by_million, 0)\n",
    "        end\n",
    "    else\n",
    "        push!(budget_by_million, 0)\n",
    "    end\n",
    "end\n",
    "        "
   ]
  },
  {
   "cell_type": "code",
   "execution_count": 6,
   "metadata": {
    "collapsed": true,
    "jupyter": {
     "outputs_hidden": true
    }
   },
   "outputs": [
    {
     "data": {
      "text/plain": [
       "5679-element Array{Any,1}:\n",
       " 760.507625\n",
       " 241.063875\n",
       " 858.373   \n",
       "  65.845974\n",
       " 459.005868\n",
       " 620.181382\n",
       " 936.662225\n",
       " 678.815482\n",
       " 309.420425\n",
       " 229.024295\n",
       " 200.074175\n",
       " 448.139099\n",
       " 213.767512\n",
       "   ⋮       \n",
       "   0.001987\n",
       "   0.000527\n",
       "   0.000401\n",
       "   0       \n",
       "   0.004584\n",
       "   2.04092 \n",
       "   0.42476 \n",
       "   0.070071\n",
       "   0.048482\n",
       "   0.001338\n",
       "   0       \n",
       "   0.181041"
      ]
     },
     "execution_count": 6,
     "metadata": {},
     "output_type": "execute_result"
    }
   ],
   "source": [
    "# Rescale a domestic revenue data\n",
    "dom_revenue_by_million = []\n",
    "for i in step_7_plot_julia[!,16]\n",
    "    if i !== missing\n",
    "        if i > 0\n",
    "            push!(dom_revenue_by_million, i / 1000000)\n",
    "        else\n",
    "            push!(dom_revenue_by_million, 0)\n",
    "        end\n",
    "    else\n",
    "        push!(dom_revenue_by_million, 0)\n",
    "    end\n",
    "end\n",
    "\n",
    "dom_revenue_by_million"
   ]
  },
  {
   "cell_type": "code",
   "execution_count": 7,
   "metadata": {
    "collapsed": true,
    "jupyter": {
     "outputs_hidden": true
    }
   },
   "outputs": [
    {
     "data": {
      "text/plain": [
       "5679-element Array{Any,1}:\n",
       " 2789.705275\n",
       " 1045.663875\n",
       " 2795.473   \n",
       "  246.356895\n",
       " 1403.013963\n",
       " 1316.721747\n",
       " 2053.31122 \n",
       " 2048.1342  \n",
       "  963.420425\n",
       "  655.945209\n",
       "  879.620923\n",
       " 1084.439099\n",
       "  393.151347\n",
       "    ⋮       \n",
       "    0.001987\n",
       "    0.000527\n",
       "    0.000401\n",
       "    0       \n",
       "    0.004584\n",
       "    2.041928\n",
       "    0.841926\n",
       "    0.071644\n",
       "    0.240495\n",
       "    0.001338\n",
       "    0       \n",
       "    0.181041"
      ]
     },
     "execution_count": 7,
     "metadata": {},
     "output_type": "execute_result"
    }
   ],
   "source": [
    "# Rescale a world revenue data\n",
    "world_revenue_by_million = []\n",
    "for i in step_7_plot_julia[!,17]\n",
    "    if i !== missing\n",
    "        if i > 0\n",
    "            push!(world_revenue_by_million, i / 1000000)\n",
    "        else\n",
    "            push!(world_revenue_by_million, 0)\n",
    "        end\n",
    "    else\n",
    "        push!(world_revenue_by_million, 0)\n",
    "    end\n",
    "end\n",
    "\n",
    "world_revenue_by_million"
   ]
  },
  {
   "cell_type": "code",
   "execution_count": 8,
   "metadata": {
    "collapsed": true,
    "jupyter": {
     "outputs_hidden": true
    }
   },
   "outputs": [
    {
     "data": {
      "text/plain": [
       "5679-element Array{Any,1}:\n",
       " 3550.2129  \n",
       " 1286.72775 \n",
       " 3653.846   \n",
       "  312.202869\n",
       " 1862.019831\n",
       " 1936.903129\n",
       " 2989.973445\n",
       " 2726.949682\n",
       " 1272.84085 \n",
       "  884.969504\n",
       " 1079.695098\n",
       " 1532.578198\n",
       "  606.918859\n",
       "    ⋮       \n",
       "    0.003974\n",
       "    0.001054\n",
       "    0.000802\n",
       "    0       \n",
       "    0.009168\n",
       "    4.082848\n",
       "    1.266686\n",
       "    0.141715\n",
       "    0.288977\n",
       "    0.002676\n",
       "    0       \n",
       "    0.362082"
      ]
     },
     "execution_count": 8,
     "metadata": {},
     "output_type": "execute_result"
    }
   ],
   "source": [
    "# Rescale a total revenue data\n",
    "total_revenue_by_million = []\n",
    "for i in step_7_plot_julia[!,18]\n",
    "    if i !== missing\n",
    "        if i > 0\n",
    "            push!(total_revenue_by_million, i / 1000000)\n",
    "        else\n",
    "            push!(total_revenue_by_million, 0)\n",
    "        end\n",
    "    else\n",
    "        push!(total_revenue_by_million, 0)\n",
    "    end\n",
    "end\n",
    "\n",
    "total_revenue_by_million"
   ]
  },
  {
   "cell_type": "code",
   "execution_count": 9,
   "metadata": {
    "collapsed": true,
    "jupyter": {
     "outputs_hidden": true
    }
   },
   "outputs": [
    {
     "data": {
      "text/html": [
       "<table class=\"data-frame\"><thead><tr><th></th><th>Rank</th><th>movieID</th><th>mainTitle</th><th>subTitle</th></tr><tr><th></th><th>Int64</th><th>String</th><th>String</th><th>String</th></tr></thead><tbody><p>5,679 rows × 18 columns (omitted printing of 14 columns)</p><tr><th>1</th><td>1</td><td>tt0499549</td><td>Avatar</td><td>NA</td></tr><tr><th>2</th><td>2</td><td>tt1298650</td><td>Pirates of the Caribbean</td><td>On Stranger Tides</td></tr><tr><th>3</th><td>3</td><td>tt4154796</td><td>Avengers</td><td>Endgame</td></tr><tr><th>4</th><td>4</td><td>tt6565702</td><td>Dark Phoenix</td><td>NA</td></tr><tr><th>5</th><td>5</td><td>tt2395427</td><td>Avengers</td><td>Age of Ultron</td></tr><tr><th>6</th><td>6</td><td>NA</td><td>Star Wars Ep. VIII</td><td>The Last Jedi</td></tr><tr><th>7</th><td>7</td><td>NA</td><td>Star Wars Ep. VII</td><td>The Force Awakens</td></tr><tr><th>8</th><td>8</td><td>tt4154756</td><td>Avengers</td><td>Infinity War</td></tr><tr><th>9</th><td>9</td><td>tt0449088</td><td>Pirates of the Caribbean</td><td>At World?\\x80?s End</td></tr><tr><th>10</th><td>10</td><td>tt0974015</td><td>Justice League</td><td>NA</td></tr><tr><th>11</th><td>11</td><td>tt2379713</td><td>Spectre</td><td>NA</td></tr><tr><th>12</th><td>12</td><td>tt1345836</td><td>The Dark Knight Rises</td><td>NA</td></tr><tr><th>13</th><td>13</td><td>tt6699860</td><td>Solo</td><td>A Star Wars Story</td></tr><tr><th>14</th><td>14</td><td>tt1210819</td><td>The Lone Ranger</td><td>NA</td></tr><tr><th>15</th><td>15</td><td>tt0401729</td><td>John Carter</td><td>NA</td></tr><tr><th>16</th><td>16</td><td>tt0398286</td><td>Tangled</td><td>NA</td></tr><tr><th>17</th><td>17</td><td>tt0413300</td><td>Spider-Man 3</td><td>NA</td></tr><tr><th>18</th><td>18</td><td>tt3498820</td><td>Captain America</td><td>Civil War</td></tr><tr><th>19</th><td>19</td><td>tt2975590</td><td>Batman v Superman</td><td>Dawn of Justice</td></tr><tr><th>20</th><td>20</td><td>tt0903624</td><td>The Hobbit</td><td>An Unexpected Journey</td></tr><tr><th>21</th><td>21</td><td>tt0417741</td><td>Harry Potter and the Half-Blood Prince</td><td>NA</td></tr><tr><th>22</th><td>22</td><td>tt1170358</td><td>The Hobbit</td><td>The Desolation of Smaug</td></tr><tr><th>23</th><td>23</td><td>tt2310332</td><td>The Hobbit</td><td>The Battle of the Five Armies</td></tr><tr><th>24</th><td>24</td><td>tt4630562</td><td>The Fate of the Furious</td><td>NA</td></tr><tr><th>25</th><td>25</td><td>tt0348150</td><td>Superman Returns</td><td>NA</td></tr><tr><th>26</th><td>26</td><td>tt1790809</td><td>Pirates of the Caribbean</td><td>Dead Men Tell No Tales</td></tr><tr><th>27</th><td>27</td><td>tt0830515</td><td>Quantum of Solace</td><td>NA</td></tr><tr><th>28</th><td>28</td><td>tt0848228</td><td>The Avengers</td><td>NA</td></tr><tr><th>29</th><td>29</td><td>tt0383574</td><td>Pirates of the Caribbean</td><td>Dead Man?\\x80?s Chest</td></tr><tr><th>30</th><td>30</td><td>tt0770828</td><td>Man of Steel</td><td>NA</td></tr><tr><th>&vellip;</th><td>&vellip;</td><td>&vellip;</td><td>&vellip;</td><td>&vellip;</td></tr></tbody></table>"
      ],
      "text/latex": [
       "\\begin{tabular}{r|ccccc}\n",
       "\t& Rank & movieID & mainTitle & subTitle & \\\\\n",
       "\t\\hline\n",
       "\t& Int64 & String & String & String & \\\\\n",
       "\t\\hline\n",
       "\t1 & 1 & tt0499549 & Avatar & NA & $\\dots$ \\\\\n",
       "\t2 & 2 & tt1298650 & Pirates of the Caribbean & On Stranger Tides & $\\dots$ \\\\\n",
       "\t3 & 3 & tt4154796 & Avengers & Endgame & $\\dots$ \\\\\n",
       "\t4 & 4 & tt6565702 & Dark Phoenix & NA & $\\dots$ \\\\\n",
       "\t5 & 5 & tt2395427 & Avengers & Age of Ultron & $\\dots$ \\\\\n",
       "\t6 & 6 & NA & Star Wars Ep. VIII & The Last Jedi & $\\dots$ \\\\\n",
       "\t7 & 7 & NA & Star Wars Ep. VII & The Force Awakens & $\\dots$ \\\\\n",
       "\t8 & 8 & tt4154756 & Avengers & Infinity War & $\\dots$ \\\\\n",
       "\t9 & 9 & tt0449088 & Pirates of the Caribbean & At World?\\textbackslash{}x80?s End & $\\dots$ \\\\\n",
       "\t10 & 10 & tt0974015 & Justice League & NA & $\\dots$ \\\\\n",
       "\t11 & 11 & tt2379713 & Spectre & NA & $\\dots$ \\\\\n",
       "\t12 & 12 & tt1345836 & The Dark Knight Rises & NA & $\\dots$ \\\\\n",
       "\t13 & 13 & tt6699860 & Solo & A Star Wars Story & $\\dots$ \\\\\n",
       "\t14 & 14 & tt1210819 & The Lone Ranger & NA & $\\dots$ \\\\\n",
       "\t15 & 15 & tt0401729 & John Carter & NA & $\\dots$ \\\\\n",
       "\t16 & 16 & tt0398286 & Tangled & NA & $\\dots$ \\\\\n",
       "\t17 & 17 & tt0413300 & Spider-Man 3 & NA & $\\dots$ \\\\\n",
       "\t18 & 18 & tt3498820 & Captain America & Civil War & $\\dots$ \\\\\n",
       "\t19 & 19 & tt2975590 & Batman v Superman & Dawn of Justice & $\\dots$ \\\\\n",
       "\t20 & 20 & tt0903624 & The Hobbit & An Unexpected Journey & $\\dots$ \\\\\n",
       "\t21 & 21 & tt0417741 & Harry Potter and the Half-Blood Prince & NA & $\\dots$ \\\\\n",
       "\t22 & 22 & tt1170358 & The Hobbit & The Desolation of Smaug & $\\dots$ \\\\\n",
       "\t23 & 23 & tt2310332 & The Hobbit & The Battle of the Five Armies & $\\dots$ \\\\\n",
       "\t24 & 24 & tt4630562 & The Fate of the Furious & NA & $\\dots$ \\\\\n",
       "\t25 & 25 & tt0348150 & Superman Returns & NA & $\\dots$ \\\\\n",
       "\t26 & 26 & tt1790809 & Pirates of the Caribbean & Dead Men Tell No Tales & $\\dots$ \\\\\n",
       "\t27 & 27 & tt0830515 & Quantum of Solace & NA & $\\dots$ \\\\\n",
       "\t28 & 28 & tt0848228 & The Avengers & NA & $\\dots$ \\\\\n",
       "\t29 & 29 & tt0383574 & Pirates of the Caribbean & Dead Man?\\textbackslash{}x80?s Chest & $\\dots$ \\\\\n",
       "\t30 & 30 & tt0770828 & Man of Steel & NA & $\\dots$ \\\\\n",
       "\t$\\dots$ & $\\dots$ & $\\dots$ & $\\dots$ & $\\dots$ &  \\\\\n",
       "\\end{tabular}\n"
      ],
      "text/plain": [
       "5679×18 DataFrame. Omitted printing of 15 columns\n",
       "│ Row  │ Rank  │ movieID   │ mainTitle                       │\n",
       "│      │ \u001b[90mInt64\u001b[39m │ \u001b[90mString\u001b[39m    │ \u001b[90mString\u001b[39m                          │\n",
       "├──────┼───────┼───────────┼─────────────────────────────────┤\n",
       "│ 1    │ 1     │ tt0499549 │ Avatar                          │\n",
       "│ 2    │ 2     │ tt1298650 │ Pirates of the Caribbean        │\n",
       "│ 3    │ 3     │ tt4154796 │ Avengers                        │\n",
       "│ 4    │ 4     │ tt6565702 │ Dark Phoenix                    │\n",
       "│ 5    │ 5     │ tt2395427 │ Avengers                        │\n",
       "│ 6    │ 6     │ NA        │ Star Wars Ep. VIII              │\n",
       "│ 7    │ 7     │ NA        │ Star Wars Ep. VII               │\n",
       "│ 8    │ 8     │ tt4154756 │ Avengers                        │\n",
       "│ 9    │ 9     │ tt0449088 │ Pirates of the Caribbean        │\n",
       "│ 10   │ 10    │ tt0974015 │ Justice League                  │\n",
       "⋮\n",
       "│ 5669 │ 5836  │ tt0481267 │ Bang                            │\n",
       "│ 5670 │ 5837  │ NA        │ The Rise and Fall of Miss Thang │\n",
       "│ 5671 │ 5838  │ NA        │ Family Motocross                │\n",
       "│ 5672 │ 5839  │ tt2010510 │ Newlyweds                       │\n",
       "│ 5673 │ 5840  │ NA        │ El Mariachi                     │\n",
       "│ 5674 │ 5841  │ tt0390384 │ Primer                          │\n",
       "│ 5675 │ 5842  │ NA        │ Cavite                          │\n",
       "│ 5676 │ 5845  │ NA        │ Following                       │\n",
       "│ 5677 │ 5846  │ NA        │ Return to the Land of Wonders   │\n",
       "│ 5678 │ 5847  │ NA        │ A Plague So Pleasant            │\n",
       "│ 5679 │ 5848  │ NA        │ My Date With Drew               │"
      ]
     },
     "execution_count": 9,
     "metadata": {},
     "output_type": "execute_result"
    }
   ],
   "source": [
    "# Define new variable for insert the created data\n",
    "step_8_plot_julia = step_7_plot_julia"
   ]
  },
  {
   "cell_type": "code",
   "execution_count": 10,
   "metadata": {
    "collapsed": true,
    "jupyter": {
     "outputs_hidden": true
    }
   },
   "outputs": [
    {
     "data": {
      "text/html": [
       "<table class=\"data-frame\"><thead><tr><th></th><th>Rank</th><th>movieID</th><th>mainTitle</th><th>subTitle</th></tr><tr><th></th><th>Int64</th><th>String</th><th>String</th><th>String</th></tr></thead><tbody><p>5,679 rows × 25 columns (omitted printing of 21 columns)</p><tr><th>1</th><td>1</td><td>tt0499549</td><td>Avatar</td><td>NA</td></tr><tr><th>2</th><td>2</td><td>tt1298650</td><td>Pirates of the Caribbean</td><td>On Stranger Tides</td></tr><tr><th>3</th><td>3</td><td>tt4154796</td><td>Avengers</td><td>Endgame</td></tr><tr><th>4</th><td>4</td><td>tt6565702</td><td>Dark Phoenix</td><td>NA</td></tr><tr><th>5</th><td>5</td><td>tt2395427</td><td>Avengers</td><td>Age of Ultron</td></tr><tr><th>6</th><td>6</td><td>NA</td><td>Star Wars Ep. VIII</td><td>The Last Jedi</td></tr><tr><th>7</th><td>7</td><td>NA</td><td>Star Wars Ep. VII</td><td>The Force Awakens</td></tr><tr><th>8</th><td>8</td><td>tt4154756</td><td>Avengers</td><td>Infinity War</td></tr><tr><th>9</th><td>9</td><td>tt0449088</td><td>Pirates of the Caribbean</td><td>At World?\\x80?s End</td></tr><tr><th>10</th><td>10</td><td>tt0974015</td><td>Justice League</td><td>NA</td></tr><tr><th>11</th><td>11</td><td>tt2379713</td><td>Spectre</td><td>NA</td></tr><tr><th>12</th><td>12</td><td>tt1345836</td><td>The Dark Knight Rises</td><td>NA</td></tr><tr><th>13</th><td>13</td><td>tt6699860</td><td>Solo</td><td>A Star Wars Story</td></tr><tr><th>14</th><td>14</td><td>tt1210819</td><td>The Lone Ranger</td><td>NA</td></tr><tr><th>15</th><td>15</td><td>tt0401729</td><td>John Carter</td><td>NA</td></tr><tr><th>16</th><td>16</td><td>tt0398286</td><td>Tangled</td><td>NA</td></tr><tr><th>17</th><td>17</td><td>tt0413300</td><td>Spider-Man 3</td><td>NA</td></tr><tr><th>18</th><td>18</td><td>tt3498820</td><td>Captain America</td><td>Civil War</td></tr><tr><th>19</th><td>19</td><td>tt2975590</td><td>Batman v Superman</td><td>Dawn of Justice</td></tr><tr><th>20</th><td>20</td><td>tt0903624</td><td>The Hobbit</td><td>An Unexpected Journey</td></tr><tr><th>21</th><td>21</td><td>tt0417741</td><td>Harry Potter and the Half-Blood Prince</td><td>NA</td></tr><tr><th>22</th><td>22</td><td>tt1170358</td><td>The Hobbit</td><td>The Desolation of Smaug</td></tr><tr><th>23</th><td>23</td><td>tt2310332</td><td>The Hobbit</td><td>The Battle of the Five Armies</td></tr><tr><th>24</th><td>24</td><td>tt4630562</td><td>The Fate of the Furious</td><td>NA</td></tr><tr><th>25</th><td>25</td><td>tt0348150</td><td>Superman Returns</td><td>NA</td></tr><tr><th>26</th><td>26</td><td>tt1790809</td><td>Pirates of the Caribbean</td><td>Dead Men Tell No Tales</td></tr><tr><th>27</th><td>27</td><td>tt0830515</td><td>Quantum of Solace</td><td>NA</td></tr><tr><th>28</th><td>28</td><td>tt0848228</td><td>The Avengers</td><td>NA</td></tr><tr><th>29</th><td>29</td><td>tt0383574</td><td>Pirates of the Caribbean</td><td>Dead Man?\\x80?s Chest</td></tr><tr><th>30</th><td>30</td><td>tt0770828</td><td>Man of Steel</td><td>NA</td></tr><tr><th>&vellip;</th><td>&vellip;</td><td>&vellip;</td><td>&vellip;</td><td>&vellip;</td></tr></tbody></table>"
      ],
      "text/latex": [
       "\\begin{tabular}{r|ccccc}\n",
       "\t& Rank & movieID & mainTitle & subTitle & \\\\\n",
       "\t\\hline\n",
       "\t& Int64 & String & String & String & \\\\\n",
       "\t\\hline\n",
       "\t1 & 1 & tt0499549 & Avatar & NA & $\\dots$ \\\\\n",
       "\t2 & 2 & tt1298650 & Pirates of the Caribbean & On Stranger Tides & $\\dots$ \\\\\n",
       "\t3 & 3 & tt4154796 & Avengers & Endgame & $\\dots$ \\\\\n",
       "\t4 & 4 & tt6565702 & Dark Phoenix & NA & $\\dots$ \\\\\n",
       "\t5 & 5 & tt2395427 & Avengers & Age of Ultron & $\\dots$ \\\\\n",
       "\t6 & 6 & NA & Star Wars Ep. VIII & The Last Jedi & $\\dots$ \\\\\n",
       "\t7 & 7 & NA & Star Wars Ep. VII & The Force Awakens & $\\dots$ \\\\\n",
       "\t8 & 8 & tt4154756 & Avengers & Infinity War & $\\dots$ \\\\\n",
       "\t9 & 9 & tt0449088 & Pirates of the Caribbean & At World?\\textbackslash{}x80?s End & $\\dots$ \\\\\n",
       "\t10 & 10 & tt0974015 & Justice League & NA & $\\dots$ \\\\\n",
       "\t11 & 11 & tt2379713 & Spectre & NA & $\\dots$ \\\\\n",
       "\t12 & 12 & tt1345836 & The Dark Knight Rises & NA & $\\dots$ \\\\\n",
       "\t13 & 13 & tt6699860 & Solo & A Star Wars Story & $\\dots$ \\\\\n",
       "\t14 & 14 & tt1210819 & The Lone Ranger & NA & $\\dots$ \\\\\n",
       "\t15 & 15 & tt0401729 & John Carter & NA & $\\dots$ \\\\\n",
       "\t16 & 16 & tt0398286 & Tangled & NA & $\\dots$ \\\\\n",
       "\t17 & 17 & tt0413300 & Spider-Man 3 & NA & $\\dots$ \\\\\n",
       "\t18 & 18 & tt3498820 & Captain America & Civil War & $\\dots$ \\\\\n",
       "\t19 & 19 & tt2975590 & Batman v Superman & Dawn of Justice & $\\dots$ \\\\\n",
       "\t20 & 20 & tt0903624 & The Hobbit & An Unexpected Journey & $\\dots$ \\\\\n",
       "\t21 & 21 & tt0417741 & Harry Potter and the Half-Blood Prince & NA & $\\dots$ \\\\\n",
       "\t22 & 22 & tt1170358 & The Hobbit & The Desolation of Smaug & $\\dots$ \\\\\n",
       "\t23 & 23 & tt2310332 & The Hobbit & The Battle of the Five Armies & $\\dots$ \\\\\n",
       "\t24 & 24 & tt4630562 & The Fate of the Furious & NA & $\\dots$ \\\\\n",
       "\t25 & 25 & tt0348150 & Superman Returns & NA & $\\dots$ \\\\\n",
       "\t26 & 26 & tt1790809 & Pirates of the Caribbean & Dead Men Tell No Tales & $\\dots$ \\\\\n",
       "\t27 & 27 & tt0830515 & Quantum of Solace & NA & $\\dots$ \\\\\n",
       "\t28 & 28 & tt0848228 & The Avengers & NA & $\\dots$ \\\\\n",
       "\t29 & 29 & tt0383574 & Pirates of the Caribbean & Dead Man?\\textbackslash{}x80?s Chest & $\\dots$ \\\\\n",
       "\t30 & 30 & tt0770828 & Man of Steel & NA & $\\dots$ \\\\\n",
       "\t$\\dots$ & $\\dots$ & $\\dots$ & $\\dots$ & $\\dots$ &  \\\\\n",
       "\\end{tabular}\n"
      ],
      "text/plain": [
       "5679×25 DataFrame. Omitted printing of 22 columns\n",
       "│ Row  │ Rank  │ movieID   │ mainTitle                       │\n",
       "│      │ \u001b[90mInt64\u001b[39m │ \u001b[90mString\u001b[39m    │ \u001b[90mString\u001b[39m                          │\n",
       "├──────┼───────┼───────────┼─────────────────────────────────┤\n",
       "│ 1    │ 1     │ tt0499549 │ Avatar                          │\n",
       "│ 2    │ 2     │ tt1298650 │ Pirates of the Caribbean        │\n",
       "│ 3    │ 3     │ tt4154796 │ Avengers                        │\n",
       "│ 4    │ 4     │ tt6565702 │ Dark Phoenix                    │\n",
       "│ 5    │ 5     │ tt2395427 │ Avengers                        │\n",
       "│ 6    │ 6     │ NA        │ Star Wars Ep. VIII              │\n",
       "│ 7    │ 7     │ NA        │ Star Wars Ep. VII               │\n",
       "│ 8    │ 8     │ tt4154756 │ Avengers                        │\n",
       "│ 9    │ 9     │ tt0449088 │ Pirates of the Caribbean        │\n",
       "│ 10   │ 10    │ tt0974015 │ Justice League                  │\n",
       "⋮\n",
       "│ 5669 │ 5836  │ tt0481267 │ Bang                            │\n",
       "│ 5670 │ 5837  │ NA        │ The Rise and Fall of Miss Thang │\n",
       "│ 5671 │ 5838  │ NA        │ Family Motocross                │\n",
       "│ 5672 │ 5839  │ tt2010510 │ Newlyweds                       │\n",
       "│ 5673 │ 5840  │ NA        │ El Mariachi                     │\n",
       "│ 5674 │ 5841  │ tt0390384 │ Primer                          │\n",
       "│ 5675 │ 5842  │ NA        │ Cavite                          │\n",
       "│ 5676 │ 5845  │ NA        │ Following                       │\n",
       "│ 5677 │ 5846  │ NA        │ Return to the Land of Wonders   │\n",
       "│ 5678 │ 5847  │ NA        │ A Plague So Pleasant            │\n",
       "│ 5679 │ 5848  │ NA        │ My Date With Drew               │"
      ]
     },
     "execution_count": 10,
     "metadata": {},
     "output_type": "execute_result"
    }
   ],
   "source": [
    "# Insert the 'year by ten' of the movie into the data frame\n",
    "insertcols!(step_8_plot_julia, 7, yearBy10 = year_by_10)\n",
    "\n",
    "# Insert the 'over 19 or not' of the movie into the data frame\n",
    "insertcols!(step_8_plot_julia, 10, over19orNot = allow_by_19)\n",
    "\n",
    "# Insert the 'complexity string' of the movie into the data frame\n",
    "insertcols!(step_8_plot_julia, 14, genre_Complex = complexity_by_num)\n",
    "\n",
    "# Insert the 'rescaled budget' of the movie into the data frame\n",
    "insertcols!(step_8_plot_julia, 17, budGet = budget_by_million)\n",
    "\n",
    "# Insert the 'domestic revenue' of the movie into the data frame\n",
    "insertcols!(step_8_plot_julia, 21, dom_Gross = dom_revenue_by_million) \n",
    "\n",
    "# Insert the 'worldwide revenue' of the movie into the data frame\n",
    "insertcols!(step_8_plot_julia, 23, world_Gross = world_revenue_by_million) \n",
    "\n",
    "# Insert the 'total revenue' of the movie into the data frame\n",
    "insertcols!(step_8_plot_julia, 25, total_Gross = total_revenue_by_million) "
   ]
  },
  {
   "cell_type": "code",
   "execution_count": 11,
   "metadata": {
    "collapsed": true,
    "jupyter": {
     "outputs_hidden": true
    }
   },
   "outputs": [
    {
     "name": "stdout",
     "output_type": "stream",
     "text": [
      "2×25 DataFrame\n",
      "│ Row │ Rank  │ movieID   │ mainTitle                │ subTitle          │\n",
      "│     │ \u001b[90mInt64\u001b[39m │ \u001b[90mString\u001b[39m    │ \u001b[90mString\u001b[39m                   │ \u001b[90mString\u001b[39m            │\n",
      "├─────┼───────┼───────────┼──────────────────────────┼───────────────────┤\n",
      "│ 1   │ 1     │ tt0499549 │ Avatar                   │ NA                │\n",
      "│ 2   │ 2     │ tt1298650 │ Pirates of the Caribbean │ On Stranger Tides │\n",
      "\n",
      "│ Row │ fullWordCounts │ releaseYear │ yearBy10 │ runTime │ overAdult │\n",
      "│     │ \u001b[90mInt64\u001b[39m          │ \u001b[90mInt64\u001b[39m       │ \u001b[90mAny\u001b[39m      │ \u001b[90mString\u001b[39m  │ \u001b[90mString\u001b[39m    │\n",
      "├─────┼────────────────┼─────────────┼──────────┼─────────┼───────────┤\n",
      "│ 1   │ 1              │ 2009        │ 2020s    │ 162     │ 0         │\n",
      "│ 2   │ 7              │ 2011        │ 2010s    │ NA      │ NA        │\n",
      "\n",
      "│ Row │ over19orNot │ genreType                │ mainGenre │ genreComplexity │\n",
      "│     │ \u001b[90mAny\u001b[39m         │ \u001b[90mString\u001b[39m                   │ \u001b[90mString\u001b[39m    │ \u001b[90mInt64\u001b[39m           │\n",
      "├─────┼─────────────┼──────────────────────────┼───────────┼─────────────────┤\n",
      "│ 1   │ below 19    │ Action,Adventure,Fantasy │ Action    │ 3               │\n",
      "│ 2   │ below 19    │ NA                       │ NA        │ 1               │\n",
      "\n",
      "│ Row │ genre_Complex │ directorName  │ ProductionBudget │ budGet │\n",
      "│     │ \u001b[90mAny\u001b[39m           │ \u001b[90mString\u001b[39m        │ \u001b[90mInt64\u001b[39m            │ \u001b[90mAny\u001b[39m    │\n",
      "├─────┼───────────────┼───────────────┼──────────────────┼────────┤\n",
      "│ 1   │ chaotic       │ James Cameron │ 425000000        │ 425.0  │\n",
      "│ 2   │ complicate    │ Rob Marshall  │ 410600000        │ 410.6  │\n",
      "\n",
      "│ Row │ averageRating │ voteCounts │ domesticGross │ dom_Gross │ worldGross │\n",
      "│     │ \u001b[90mString\u001b[39m        │ \u001b[90mString\u001b[39m     │ \u001b[90mInt64\u001b[39m         │ \u001b[90mAny\u001b[39m       │ \u001b[90mInt64\u001b[39m      │\n",
      "├─────┼───────────────┼────────────┼───────────────┼───────────┼────────────┤\n",
      "│ 1   │ 7.8           │ 1059406    │ 760507625     │ 760.508   │ 2789705275 │\n",
      "│ 2   │ 6.6           │ 453402     │ 241063875     │ 241.064   │ 1045663875 │\n",
      "\n",
      "│ Row │ world_Gross │ totalRevenue │ total_Gross │\n",
      "│     │ \u001b[90mAny\u001b[39m         │ \u001b[90mInt64\u001b[39m        │ \u001b[90mAny\u001b[39m         │\n",
      "├─────┼─────────────┼──────────────┼─────────────┤\n",
      "│ 1   │ 2789.71     │ 3550212900   │ 3550.21     │\n",
      "│ 2   │ 1045.66     │ 1286727750   │ 1286.73     │"
     ]
    }
   ],
   "source": [
    "# To check that the columns are positioned properly for wrangling task\n",
    "show(first(step_8_plot_julia,2), allcols=true, splitcols=true)"
   ]
  },
  {
   "cell_type": "markdown",
   "metadata": {},
   "source": [
    "#### 2. Deleting resurrected 'NA' data\n",
    "\n",
    "Now we are going to delete resurrected 'NA' data that we mentioned at the end of the last R Notebook very quickly."
   ]
  },
  {
   "cell_type": "code",
   "execution_count": 12,
   "metadata": {
    "collapsed": true,
    "jupyter": {
     "outputs_hidden": true
    }
   },
   "outputs": [
    {
     "data": {
      "text/plain": [
       "5679-element Array{Any,1}:\n",
       " 3550.2129  \n",
       " 1286.72775 \n",
       " 3653.846   \n",
       "  312.202869\n",
       " 1862.019831\n",
       " 1936.903129\n",
       " 2989.973445\n",
       " 2726.949682\n",
       " 1272.84085 \n",
       "  884.969504\n",
       " 1079.695098\n",
       " 1532.578198\n",
       "  606.918859\n",
       "    ⋮       \n",
       "    0.003974\n",
       "    0.001054\n",
       "    0.000802\n",
       "    0       \n",
       "    0.009168\n",
       "    4.082848\n",
       "    1.266686\n",
       "    0.141715\n",
       "    0.288977\n",
       "    0.002676\n",
       "    0       \n",
       "    0.362082"
      ]
     },
     "execution_count": 12,
     "metadata": {},
     "output_type": "execute_result"
    }
   ],
   "source": [
    "# Define variables for deleting 'NA' data process every column\n",
    "rank = step_8_plot_julia[!,1]\n",
    "movieid = step_8_plot_julia[!,2]\n",
    "maintitle = step_8_plot_julia[!,3]\n",
    "subtitle = step_8_plot_julia[!,4]\n",
    "fullwordcnt = step_8_plot_julia[!,5]\n",
    "releaseyear = step_8_plot_julia[!,6]\n",
    "yearby10 = step_8_plot_julia[!,7]\n",
    "runtime = step_8_plot_julia[!,8]\n",
    "overadult = step_8_plot_julia[!,9]\n",
    "over19ornot = step_8_plot_julia[!,10]\n",
    "genretype = step_8_plot_julia[!,11]\n",
    "maingenre = step_8_plot_julia[!,12]\n",
    "genrecomplexity = step_8_plot_julia[!,13]\n",
    "genre_complex = step_8_plot_julia[!,14]\n",
    "directorname = step_8_plot_julia[!,15]\n",
    "productionbudget = step_8_plot_julia[!,16]\n",
    "budget = step_8_plot_julia[!,17]\n",
    "averagerating = step_8_plot_julia[!,18]\n",
    "votecnt = step_8_plot_julia[!,19]\n",
    "domgross = step_8_plot_julia[!,20]\n",
    "dom_gross = step_8_plot_julia[!,21]\n",
    "worldgross = step_8_plot_julia[!,22]\n",
    "world_gross = step_8_plot_julia[!,23]\n",
    "totalgross = step_8_plot_julia[!,24]\n",
    "total_gross = step_8_plot_julia[!,25]\n"
   ]
  },
  {
   "cell_type": "code",
   "execution_count": 13,
   "metadata": {},
   "outputs": [],
   "source": [
    "# Deleting 'NA' data inside of the movieid column\n",
    "movieid_1 = []\n",
    "for i in movieid\n",
    "    push!(movieid_1, replace(i, \"NA\" => \"\"))\n",
    "end\n",
    "\n",
    "# Deleting 'NA' data inside of the subtitle column\n",
    "subtitle_1 = []\n",
    "for i in subtitle\n",
    "    push!(subtitle_1, replace(i, \"NA\" => \"\"))\n",
    "end\n",
    "\n",
    "# Deleting 'NA' data inside of the runtime column\n",
    "runtime_1 = []\n",
    "for i in runtime\n",
    "    push!(runtime_1, replace(i, \"NA\" => \"\"))\n",
    "end\n",
    "\n",
    "# Deleting 'NA' data inside of the overadult column\n",
    "overadult_1 = []\n",
    "for i in overadult\n",
    "    push!(overadult_1, replace(i, \"NA\" => \"\"))\n",
    "end\n",
    "\n",
    "# Deleting 'NA' data inside of the genretype column\n",
    "genretype_1 = []\n",
    "for i in genretype\n",
    "    push!(genretype_1, replace(i, \"NA\" => \"\"))\n",
    "end\n",
    "\n",
    "# Deleting 'NA' data inside of the maingenre column\n",
    "maingenre_1 = []\n",
    "for i in maingenre\n",
    "    push!(maingenre_1, replace(i, \"NA\" => \"\"))\n",
    "end\n",
    "\n",
    "# Deleting 'NA' data inside of the directorname column\n",
    "directorname_1 = []\n",
    "for i in directorname\n",
    "    push!(directorname_1, replace(i, \"NA\" => \"\"))\n",
    "end\n",
    "\n",
    "# Deleting 'NA' data inside of the averagerating column\n",
    "averagerating_1 = []\n",
    "for i in averagerating\n",
    "    push!(averagerating_1, replace(i, \"NA\" => \"\"))\n",
    "end\n",
    "\n",
    "# Deleting 'NA' data inside of the votecnt column\n",
    "votecnt_1 = []\n",
    "for i in votecnt\n",
    "    push!(votecnt_1, replace(i, \"NA\" => \"\"))\n",
    "end"
   ]
  },
  {
   "cell_type": "code",
   "execution_count": 14,
   "metadata": {
    "collapsed": true,
    "jupyter": {
     "outputs_hidden": true
    }
   },
   "outputs": [
    {
     "data": {
      "text/html": [
       "<table class=\"data-frame\"><thead><tr><th></th><th>Rank</th><th>MovieID</th><th>MainTitle</th><th>Subtitle</th></tr><tr><th></th><th>Int64</th><th>Any</th><th>String</th><th>Any</th></tr></thead><tbody><p>5,679 rows × 25 columns (omitted printing of 21 columns)</p><tr><th>1</th><td>1</td><td>tt0499549</td><td>Avatar</td><td></td></tr><tr><th>2</th><td>2</td><td>tt1298650</td><td>Pirates of the Caribbean</td><td>On Stranger Tides</td></tr><tr><th>3</th><td>3</td><td>tt4154796</td><td>Avengers</td><td>Endgame</td></tr><tr><th>4</th><td>4</td><td>tt6565702</td><td>Dark Phoenix</td><td></td></tr><tr><th>5</th><td>5</td><td>tt2395427</td><td>Avengers</td><td>Age of Ultron</td></tr><tr><th>6</th><td>6</td><td></td><td>Star Wars Ep. VIII</td><td>The Last Jedi</td></tr><tr><th>7</th><td>7</td><td></td><td>Star Wars Ep. VII</td><td>The Force Awakens</td></tr><tr><th>8</th><td>8</td><td>tt4154756</td><td>Avengers</td><td>Infinity War</td></tr><tr><th>9</th><td>9</td><td>tt0449088</td><td>Pirates of the Caribbean</td><td>At World?\\x80?s End</td></tr><tr><th>10</th><td>10</td><td>tt0974015</td><td>Justice League</td><td></td></tr><tr><th>11</th><td>11</td><td>tt2379713</td><td>Spectre</td><td></td></tr><tr><th>12</th><td>12</td><td>tt1345836</td><td>The Dark Knight Rises</td><td></td></tr><tr><th>13</th><td>13</td><td>tt6699860</td><td>Solo</td><td>A Star Wars Story</td></tr><tr><th>14</th><td>14</td><td>tt1210819</td><td>The Lone Ranger</td><td></td></tr><tr><th>15</th><td>15</td><td>tt0401729</td><td>John Carter</td><td></td></tr><tr><th>16</th><td>16</td><td>tt0398286</td><td>Tangled</td><td></td></tr><tr><th>17</th><td>17</td><td>tt0413300</td><td>Spider-Man 3</td><td></td></tr><tr><th>18</th><td>18</td><td>tt3498820</td><td>Captain America</td><td>Civil War</td></tr><tr><th>19</th><td>19</td><td>tt2975590</td><td>Batman v Superman</td><td>Dawn of Justice</td></tr><tr><th>20</th><td>20</td><td>tt0903624</td><td>The Hobbit</td><td>An Unexpected Journey</td></tr><tr><th>21</th><td>21</td><td>tt0417741</td><td>Harry Potter and the Half-Blood Prince</td><td></td></tr><tr><th>22</th><td>22</td><td>tt1170358</td><td>The Hobbit</td><td>The Desolation of Smaug</td></tr><tr><th>23</th><td>23</td><td>tt2310332</td><td>The Hobbit</td><td>The Battle of the Five Armies</td></tr><tr><th>24</th><td>24</td><td>tt4630562</td><td>The Fate of the Furious</td><td></td></tr><tr><th>25</th><td>25</td><td>tt0348150</td><td>Superman Returns</td><td></td></tr><tr><th>26</th><td>26</td><td>tt1790809</td><td>Pirates of the Caribbean</td><td>Dead Men Tell No Tales</td></tr><tr><th>27</th><td>27</td><td>tt0830515</td><td>Quantum of Solace</td><td></td></tr><tr><th>28</th><td>28</td><td>tt0848228</td><td>The Avengers</td><td></td></tr><tr><th>29</th><td>29</td><td>tt0383574</td><td>Pirates of the Caribbean</td><td>Dead Man?\\x80?s Chest</td></tr><tr><th>30</th><td>30</td><td>tt0770828</td><td>Man of Steel</td><td></td></tr><tr><th>&vellip;</th><td>&vellip;</td><td>&vellip;</td><td>&vellip;</td><td>&vellip;</td></tr></tbody></table>"
      ],
      "text/latex": [
       "\\begin{tabular}{r|ccccc}\n",
       "\t& Rank & MovieID & MainTitle & Subtitle & \\\\\n",
       "\t\\hline\n",
       "\t& Int64 & Any & String & Any & \\\\\n",
       "\t\\hline\n",
       "\t1 & 1 & tt0499549 & Avatar &  & $\\dots$ \\\\\n",
       "\t2 & 2 & tt1298650 & Pirates of the Caribbean & On Stranger Tides & $\\dots$ \\\\\n",
       "\t3 & 3 & tt4154796 & Avengers & Endgame & $\\dots$ \\\\\n",
       "\t4 & 4 & tt6565702 & Dark Phoenix &  & $\\dots$ \\\\\n",
       "\t5 & 5 & tt2395427 & Avengers & Age of Ultron & $\\dots$ \\\\\n",
       "\t6 & 6 &  & Star Wars Ep. VIII & The Last Jedi & $\\dots$ \\\\\n",
       "\t7 & 7 &  & Star Wars Ep. VII & The Force Awakens & $\\dots$ \\\\\n",
       "\t8 & 8 & tt4154756 & Avengers & Infinity War & $\\dots$ \\\\\n",
       "\t9 & 9 & tt0449088 & Pirates of the Caribbean & At World?\\textbackslash{}x80?s End & $\\dots$ \\\\\n",
       "\t10 & 10 & tt0974015 & Justice League &  & $\\dots$ \\\\\n",
       "\t11 & 11 & tt2379713 & Spectre &  & $\\dots$ \\\\\n",
       "\t12 & 12 & tt1345836 & The Dark Knight Rises &  & $\\dots$ \\\\\n",
       "\t13 & 13 & tt6699860 & Solo & A Star Wars Story & $\\dots$ \\\\\n",
       "\t14 & 14 & tt1210819 & The Lone Ranger &  & $\\dots$ \\\\\n",
       "\t15 & 15 & tt0401729 & John Carter &  & $\\dots$ \\\\\n",
       "\t16 & 16 & tt0398286 & Tangled &  & $\\dots$ \\\\\n",
       "\t17 & 17 & tt0413300 & Spider-Man 3 &  & $\\dots$ \\\\\n",
       "\t18 & 18 & tt3498820 & Captain America & Civil War & $\\dots$ \\\\\n",
       "\t19 & 19 & tt2975590 & Batman v Superman & Dawn of Justice & $\\dots$ \\\\\n",
       "\t20 & 20 & tt0903624 & The Hobbit & An Unexpected Journey & $\\dots$ \\\\\n",
       "\t21 & 21 & tt0417741 & Harry Potter and the Half-Blood Prince &  & $\\dots$ \\\\\n",
       "\t22 & 22 & tt1170358 & The Hobbit & The Desolation of Smaug & $\\dots$ \\\\\n",
       "\t23 & 23 & tt2310332 & The Hobbit & The Battle of the Five Armies & $\\dots$ \\\\\n",
       "\t24 & 24 & tt4630562 & The Fate of the Furious &  & $\\dots$ \\\\\n",
       "\t25 & 25 & tt0348150 & Superman Returns &  & $\\dots$ \\\\\n",
       "\t26 & 26 & tt1790809 & Pirates of the Caribbean & Dead Men Tell No Tales & $\\dots$ \\\\\n",
       "\t27 & 27 & tt0830515 & Quantum of Solace &  & $\\dots$ \\\\\n",
       "\t28 & 28 & tt0848228 & The Avengers &  & $\\dots$ \\\\\n",
       "\t29 & 29 & tt0383574 & Pirates of the Caribbean & Dead Man?\\textbackslash{}x80?s Chest & $\\dots$ \\\\\n",
       "\t30 & 30 & tt0770828 & Man of Steel &  & $\\dots$ \\\\\n",
       "\t$\\dots$ & $\\dots$ & $\\dots$ & $\\dots$ & $\\dots$ &  \\\\\n",
       "\\end{tabular}\n"
      ],
      "text/plain": [
       "5679×25 DataFrame. Omitted printing of 22 columns\n",
       "│ Row  │ Rank  │ MovieID   │ MainTitle                       │\n",
       "│      │ \u001b[90mInt64\u001b[39m │ \u001b[90mAny\u001b[39m       │ \u001b[90mString\u001b[39m                          │\n",
       "├──────┼───────┼───────────┼─────────────────────────────────┤\n",
       "│ 1    │ 1     │ tt0499549 │ Avatar                          │\n",
       "│ 2    │ 2     │ tt1298650 │ Pirates of the Caribbean        │\n",
       "│ 3    │ 3     │ tt4154796 │ Avengers                        │\n",
       "│ 4    │ 4     │ tt6565702 │ Dark Phoenix                    │\n",
       "│ 5    │ 5     │ tt2395427 │ Avengers                        │\n",
       "│ 6    │ 6     │           │ Star Wars Ep. VIII              │\n",
       "│ 7    │ 7     │           │ Star Wars Ep. VII               │\n",
       "│ 8    │ 8     │ tt4154756 │ Avengers                        │\n",
       "│ 9    │ 9     │ tt0449088 │ Pirates of the Caribbean        │\n",
       "│ 10   │ 10    │ tt0974015 │ Justice League                  │\n",
       "⋮\n",
       "│ 5669 │ 5836  │ tt0481267 │ Bang                            │\n",
       "│ 5670 │ 5837  │           │ The Rise and Fall of Miss Thang │\n",
       "│ 5671 │ 5838  │           │ Family Motocross                │\n",
       "│ 5672 │ 5839  │ tt2010510 │ Newlyweds                       │\n",
       "│ 5673 │ 5840  │           │ El Mariachi                     │\n",
       "│ 5674 │ 5841  │ tt0390384 │ Primer                          │\n",
       "│ 5675 │ 5842  │           │ Cavite                          │\n",
       "│ 5676 │ 5845  │           │ Following                       │\n",
       "│ 5677 │ 5846  │           │ Return to the Land of Wonders   │\n",
       "│ 5678 │ 5847  │           │ A Plague So Pleasant            │\n",
       "│ 5679 │ 5848  │           │ My Date With Drew               │"
      ]
     },
     "execution_count": 14,
     "metadata": {},
     "output_type": "execute_result"
    }
   ],
   "source": [
    "# To make a dataframe using deleted lists\n",
    "movie_data_final = DataFrame(Rank = rank,\n",
    "    MovieID = movieid_1,\n",
    "    MainTitle = maintitle, \n",
    "    Subtitle = subtitle_1,\n",
    "    Fullwordcnt = fullwordcnt,\n",
    "    Release_year = releaseyear, \n",
    "    year_by_10 = yearby10, \n",
    "    Runtime = runtime_1,\n",
    "    Overadult = overadult_1, \n",
    "    Over19ornot = over19ornot,\n",
    "    Genre_type = genretype_1,\n",
    "    maingenre = maingenre_1, \n",
    "    genrecomplexity = genrecomplexity, \n",
    "    genre_complex = genre_complex, \n",
    "    directorname = directorname_1, \n",
    "    productionbudget = productionbudget, \n",
    "    budget = budget, \n",
    "    averagerating = averagerating_1,\n",
    "    votecnt = votecnt_1,\n",
    "    domgross = domgross, \n",
    "    dom_gross = dom_gross, \n",
    "    worldgross = worldgross,\n",
    "    world_gross = world_gross,\n",
    "    totalgross = totalgross,\n",
    "    total_gross = total_gross)\n"
   ]
  },
  {
   "cell_type": "code",
   "execution_count": 15,
   "metadata": {},
   "outputs": [
    {
     "name": "stdout",
     "output_type": "stream",
     "text": [
      "2×25 DataFrame\n",
      "│ Row │ Rank  │ MovieID   │ MainTitle                │ Subtitle          │\n",
      "│     │ \u001b[90mInt64\u001b[39m │ \u001b[90mAny\u001b[39m       │ \u001b[90mString\u001b[39m                   │ \u001b[90mAny\u001b[39m               │\n",
      "├─────┼───────┼───────────┼──────────────────────────┼───────────────────┤\n",
      "│ 1   │ 1     │ tt0499549 │ Avatar                   │                   │\n",
      "│ 2   │ 2     │ tt1298650 │ Pirates of the Caribbean │ On Stranger Tides │\n",
      "\n",
      "│ Row │ Fullwordcnt │ Release_year │ year_by_10 │ Runtime │ Overadult │\n",
      "│     │ \u001b[90mInt64\u001b[39m       │ \u001b[90mInt64\u001b[39m        │ \u001b[90mAny\u001b[39m        │ \u001b[90mAny\u001b[39m     │ \u001b[90mAny\u001b[39m       │\n",
      "├─────┼─────────────┼──────────────┼────────────┼─────────┼───────────┤\n",
      "│ 1   │ 1           │ 2009         │ 2020s      │ 162     │ 0         │\n",
      "│ 2   │ 7           │ 2011         │ 2010s      │         │           │\n",
      "\n",
      "│ Row │ Over19ornot │ Genre_type               │ maingenre │ genrecomplexity │\n",
      "│     │ \u001b[90mAny\u001b[39m         │ \u001b[90mAny\u001b[39m                      │ \u001b[90mAny\u001b[39m       │ \u001b[90mInt64\u001b[39m           │\n",
      "├─────┼─────────────┼──────────────────────────┼───────────┼─────────────────┤\n",
      "│ 1   │ below 19    │ Action,Adventure,Fantasy │ Action    │ 3               │\n",
      "│ 2   │ below 19    │                          │           │ 1               │\n",
      "\n",
      "│ Row │ genre_complex │ directorname  │ productionbudget │ budget │\n",
      "│     │ \u001b[90mAny\u001b[39m           │ \u001b[90mAny\u001b[39m           │ \u001b[90mInt64\u001b[39m            │ \u001b[90mAny\u001b[39m    │\n",
      "├─────┼───────────────┼───────────────┼──────────────────┼────────┤\n",
      "│ 1   │ chaotic       │ James Cameron │ 425000000        │ 425.0  │\n",
      "│ 2   │ complicate    │ Rob Marshall  │ 410600000        │ 410.6  │\n",
      "\n",
      "│ Row │ averagerating │ votecnt │ domgross  │ dom_gross │ worldgross │\n",
      "│     │ \u001b[90mAny\u001b[39m           │ \u001b[90mAny\u001b[39m     │ \u001b[90mInt64\u001b[39m     │ \u001b[90mAny\u001b[39m       │ \u001b[90mInt64\u001b[39m      │\n",
      "├─────┼───────────────┼─────────┼───────────┼───────────┼────────────┤\n",
      "│ 1   │ 7.8           │ 1059406 │ 760507625 │ 760.508   │ 2789705275 │\n",
      "│ 2   │ 6.6           │ 453402  │ 241063875 │ 241.064   │ 1045663875 │\n",
      "\n",
      "│ Row │ world_gross │ totalgross │ total_gross │\n",
      "│     │ \u001b[90mAny\u001b[39m         │ \u001b[90mInt64\u001b[39m      │ \u001b[90mAny\u001b[39m         │\n",
      "├─────┼─────────────┼────────────┼─────────────┤\n",
      "│ 1   │ 2789.71     │ 3550212900 │ 3550.21     │\n",
      "│ 2   │ 1045.66     │ 1286727750 │ 1286.73     │"
     ]
    }
   ],
   "source": [
    "# To check that the columns are positioned properly for wrangling task\n",
    "show(first(movie_data_final,2), allcols=true, splitcols=true)"
   ]
  },
  {
   "cell_type": "code",
   "execution_count": 16,
   "metadata": {},
   "outputs": [
    {
     "data": {
      "text/plain": [
       "\"movie_data_step_final.csv\""
      ]
     },
     "execution_count": 16,
     "metadata": {},
     "output_type": "execute_result"
    }
   ],
   "source": [
    "# Storing it for plotting in Julia\n",
    "CSV.write(\"movie_data_step_final.csv\", movie_data_final)"
   ]
  },
  {
   "cell_type": "markdown",
   "metadata": {},
   "source": [
    "##### Tidy data set의 정의를 한 후 데이트를 추출한다."
   ]
  },
  {
   "cell_type": "code",
   "execution_count": 17,
   "metadata": {
    "collapsed": true,
    "jupyter": {
     "outputs_hidden": true
    }
   },
   "outputs": [
    {
     "data": {
      "text/html": [
       "<table class=\"data-frame\"><thead><tr><th></th><th>Rank</th><th>MovieID</th><th>MainTitle</th><th>Subtitle</th></tr><tr><th></th><th>Int64</th><th>String⍰</th><th>String</th><th>String⍰</th></tr></thead><tbody><p>5,679 rows × 25 columns (omitted printing of 21 columns)</p><tr><th>1</th><td>1</td><td>tt0499549</td><td>Avatar</td><td>missing</td></tr><tr><th>2</th><td>2</td><td>tt1298650</td><td>Pirates of the Caribbean</td><td>On Stranger Tides</td></tr><tr><th>3</th><td>3</td><td>tt4154796</td><td>Avengers</td><td>Endgame</td></tr><tr><th>4</th><td>4</td><td>tt6565702</td><td>Dark Phoenix</td><td>missing</td></tr><tr><th>5</th><td>5</td><td>tt2395427</td><td>Avengers</td><td>Age of Ultron</td></tr><tr><th>6</th><td>6</td><td>missing</td><td>Star Wars Ep. VIII</td><td>The Last Jedi</td></tr><tr><th>7</th><td>7</td><td>missing</td><td>Star Wars Ep. VII</td><td>The Force Awakens</td></tr><tr><th>8</th><td>8</td><td>tt4154756</td><td>Avengers</td><td>Infinity War</td></tr><tr><th>9</th><td>9</td><td>tt0449088</td><td>Pirates of the Caribbean</td><td>At World?\\x80?s End</td></tr><tr><th>10</th><td>10</td><td>tt0974015</td><td>Justice League</td><td>missing</td></tr><tr><th>11</th><td>11</td><td>tt2379713</td><td>Spectre</td><td>missing</td></tr><tr><th>12</th><td>12</td><td>tt1345836</td><td>The Dark Knight Rises</td><td>missing</td></tr><tr><th>13</th><td>13</td><td>tt6699860</td><td>Solo</td><td>A Star Wars Story</td></tr><tr><th>14</th><td>14</td><td>tt1210819</td><td>The Lone Ranger</td><td>missing</td></tr><tr><th>15</th><td>15</td><td>tt0401729</td><td>John Carter</td><td>missing</td></tr><tr><th>16</th><td>16</td><td>tt0398286</td><td>Tangled</td><td>missing</td></tr><tr><th>17</th><td>17</td><td>tt0413300</td><td>Spider-Man 3</td><td>missing</td></tr><tr><th>18</th><td>18</td><td>tt3498820</td><td>Captain America</td><td>Civil War</td></tr><tr><th>19</th><td>19</td><td>tt2975590</td><td>Batman v Superman</td><td>Dawn of Justice</td></tr><tr><th>20</th><td>20</td><td>tt0903624</td><td>The Hobbit</td><td>An Unexpected Journey</td></tr><tr><th>21</th><td>21</td><td>tt0417741</td><td>Harry Potter and the Half-Blood Prince</td><td>missing</td></tr><tr><th>22</th><td>22</td><td>tt1170358</td><td>The Hobbit</td><td>The Desolation of Smaug</td></tr><tr><th>23</th><td>23</td><td>tt2310332</td><td>The Hobbit</td><td>The Battle of the Five Armies</td></tr><tr><th>24</th><td>24</td><td>tt4630562</td><td>The Fate of the Furious</td><td>missing</td></tr><tr><th>25</th><td>25</td><td>tt0348150</td><td>Superman Returns</td><td>missing</td></tr><tr><th>26</th><td>26</td><td>tt1790809</td><td>Pirates of the Caribbean</td><td>Dead Men Tell No Tales</td></tr><tr><th>27</th><td>27</td><td>tt0830515</td><td>Quantum of Solace</td><td>missing</td></tr><tr><th>28</th><td>28</td><td>tt0848228</td><td>The Avengers</td><td>missing</td></tr><tr><th>29</th><td>29</td><td>tt0383574</td><td>Pirates of the Caribbean</td><td>Dead Man?\\x80?s Chest</td></tr><tr><th>30</th><td>30</td><td>tt0770828</td><td>Man of Steel</td><td>missing</td></tr><tr><th>&vellip;</th><td>&vellip;</td><td>&vellip;</td><td>&vellip;</td><td>&vellip;</td></tr></tbody></table>"
      ],
      "text/latex": [
       "\\begin{tabular}{r|ccccc}\n",
       "\t& Rank & MovieID & MainTitle & Subtitle & \\\\\n",
       "\t\\hline\n",
       "\t& Int64 & String⍰ & String & String⍰ & \\\\\n",
       "\t\\hline\n",
       "\t1 & 1 & tt0499549 & Avatar &  & $\\dots$ \\\\\n",
       "\t2 & 2 & tt1298650 & Pirates of the Caribbean & On Stranger Tides & $\\dots$ \\\\\n",
       "\t3 & 3 & tt4154796 & Avengers & Endgame & $\\dots$ \\\\\n",
       "\t4 & 4 & tt6565702 & Dark Phoenix &  & $\\dots$ \\\\\n",
       "\t5 & 5 & tt2395427 & Avengers & Age of Ultron & $\\dots$ \\\\\n",
       "\t6 & 6 &  & Star Wars Ep. VIII & The Last Jedi & $\\dots$ \\\\\n",
       "\t7 & 7 &  & Star Wars Ep. VII & The Force Awakens & $\\dots$ \\\\\n",
       "\t8 & 8 & tt4154756 & Avengers & Infinity War & $\\dots$ \\\\\n",
       "\t9 & 9 & tt0449088 & Pirates of the Caribbean & At World?\\textbackslash{}x80?s End & $\\dots$ \\\\\n",
       "\t10 & 10 & tt0974015 & Justice League &  & $\\dots$ \\\\\n",
       "\t11 & 11 & tt2379713 & Spectre &  & $\\dots$ \\\\\n",
       "\t12 & 12 & tt1345836 & The Dark Knight Rises &  & $\\dots$ \\\\\n",
       "\t13 & 13 & tt6699860 & Solo & A Star Wars Story & $\\dots$ \\\\\n",
       "\t14 & 14 & tt1210819 & The Lone Ranger &  & $\\dots$ \\\\\n",
       "\t15 & 15 & tt0401729 & John Carter &  & $\\dots$ \\\\\n",
       "\t16 & 16 & tt0398286 & Tangled &  & $\\dots$ \\\\\n",
       "\t17 & 17 & tt0413300 & Spider-Man 3 &  & $\\dots$ \\\\\n",
       "\t18 & 18 & tt3498820 & Captain America & Civil War & $\\dots$ \\\\\n",
       "\t19 & 19 & tt2975590 & Batman v Superman & Dawn of Justice & $\\dots$ \\\\\n",
       "\t20 & 20 & tt0903624 & The Hobbit & An Unexpected Journey & $\\dots$ \\\\\n",
       "\t21 & 21 & tt0417741 & Harry Potter and the Half-Blood Prince &  & $\\dots$ \\\\\n",
       "\t22 & 22 & tt1170358 & The Hobbit & The Desolation of Smaug & $\\dots$ \\\\\n",
       "\t23 & 23 & tt2310332 & The Hobbit & The Battle of the Five Armies & $\\dots$ \\\\\n",
       "\t24 & 24 & tt4630562 & The Fate of the Furious &  & $\\dots$ \\\\\n",
       "\t25 & 25 & tt0348150 & Superman Returns &  & $\\dots$ \\\\\n",
       "\t26 & 26 & tt1790809 & Pirates of the Caribbean & Dead Men Tell No Tales & $\\dots$ \\\\\n",
       "\t27 & 27 & tt0830515 & Quantum of Solace &  & $\\dots$ \\\\\n",
       "\t28 & 28 & tt0848228 & The Avengers &  & $\\dots$ \\\\\n",
       "\t29 & 29 & tt0383574 & Pirates of the Caribbean & Dead Man?\\textbackslash{}x80?s Chest & $\\dots$ \\\\\n",
       "\t30 & 30 & tt0770828 & Man of Steel &  & $\\dots$ \\\\\n",
       "\t$\\dots$ & $\\dots$ & $\\dots$ & $\\dots$ & $\\dots$ &  \\\\\n",
       "\\end{tabular}\n"
      ],
      "text/plain": [
       "5679×25 DataFrame. Omitted printing of 22 columns\n",
       "│ Row  │ Rank  │ MovieID   │ MainTitle                       │\n",
       "│      │ \u001b[90mInt64\u001b[39m │ \u001b[90mString⍰\u001b[39m   │ \u001b[90mString\u001b[39m                          │\n",
       "├──────┼───────┼───────────┼─────────────────────────────────┤\n",
       "│ 1    │ 1     │ tt0499549 │ Avatar                          │\n",
       "│ 2    │ 2     │ tt1298650 │ Pirates of the Caribbean        │\n",
       "│ 3    │ 3     │ tt4154796 │ Avengers                        │\n",
       "│ 4    │ 4     │ tt6565702 │ Dark Phoenix                    │\n",
       "│ 5    │ 5     │ tt2395427 │ Avengers                        │\n",
       "│ 6    │ 6     │ \u001b[90mmissing\u001b[39m   │ Star Wars Ep. VIII              │\n",
       "│ 7    │ 7     │ \u001b[90mmissing\u001b[39m   │ Star Wars Ep. VII               │\n",
       "│ 8    │ 8     │ tt4154756 │ Avengers                        │\n",
       "│ 9    │ 9     │ tt0449088 │ Pirates of the Caribbean        │\n",
       "│ 10   │ 10    │ tt0974015 │ Justice League                  │\n",
       "⋮\n",
       "│ 5669 │ 5836  │ tt0481267 │ Bang                            │\n",
       "│ 5670 │ 5837  │ \u001b[90mmissing\u001b[39m   │ The Rise and Fall of Miss Thang │\n",
       "│ 5671 │ 5838  │ \u001b[90mmissing\u001b[39m   │ Family Motocross                │\n",
       "│ 5672 │ 5839  │ tt2010510 │ Newlyweds                       │\n",
       "│ 5673 │ 5840  │ \u001b[90mmissing\u001b[39m   │ El Mariachi                     │\n",
       "│ 5674 │ 5841  │ tt0390384 │ Primer                          │\n",
       "│ 5675 │ 5842  │ \u001b[90mmissing\u001b[39m   │ Cavite                          │\n",
       "│ 5676 │ 5845  │ \u001b[90mmissing\u001b[39m   │ Following                       │\n",
       "│ 5677 │ 5846  │ \u001b[90mmissing\u001b[39m   │ Return to the Land of Wonders   │\n",
       "│ 5678 │ 5847  │ \u001b[90mmissing\u001b[39m   │ A Plague So Pleasant            │\n",
       "│ 5679 │ 5848  │ \u001b[90mmissing\u001b[39m   │ My Date With Drew               │"
      ]
     },
     "execution_count": 17,
     "metadata": {},
     "output_type": "execute_result"
    }
   ],
   "source": [
    "# Read the \"movie_data_step_final.csv\" file to prepare for making tidy version CSV file\n",
    "tidy_ver_julia = CSV.read(\"movie_data_step_final.csv\")"
   ]
  },
  {
   "cell_type": "code",
   "execution_count": 18,
   "metadata": {
    "collapsed": true,
    "jupyter": {
     "outputs_hidden": true
    }
   },
   "outputs": [
    {
     "data": {
      "text/html": [
       "<table class=\"data-frame\"><thead><tr><th></th><th>Rank</th><th>MovieID</th><th>MainTitle</th><th>Subtitle</th></tr><tr><th></th><th>Int64</th><th>String⍰</th><th>String</th><th>String⍰</th></tr></thead><tbody><p>5,679 rows × 16 columns (omitted printing of 12 columns)</p><tr><th>1</th><td>1</td><td>tt0499549</td><td>Avatar</td><td>missing</td></tr><tr><th>2</th><td>2</td><td>tt1298650</td><td>Pirates of the Caribbean</td><td>On Stranger Tides</td></tr><tr><th>3</th><td>3</td><td>tt4154796</td><td>Avengers</td><td>Endgame</td></tr><tr><th>4</th><td>4</td><td>tt6565702</td><td>Dark Phoenix</td><td>missing</td></tr><tr><th>5</th><td>5</td><td>tt2395427</td><td>Avengers</td><td>Age of Ultron</td></tr><tr><th>6</th><td>6</td><td>missing</td><td>Star Wars Ep. VIII</td><td>The Last Jedi</td></tr><tr><th>7</th><td>7</td><td>missing</td><td>Star Wars Ep. VII</td><td>The Force Awakens</td></tr><tr><th>8</th><td>8</td><td>tt4154756</td><td>Avengers</td><td>Infinity War</td></tr><tr><th>9</th><td>9</td><td>tt0449088</td><td>Pirates of the Caribbean</td><td>At World?\\x80?s End</td></tr><tr><th>10</th><td>10</td><td>tt0974015</td><td>Justice League</td><td>missing</td></tr><tr><th>11</th><td>11</td><td>tt2379713</td><td>Spectre</td><td>missing</td></tr><tr><th>12</th><td>12</td><td>tt1345836</td><td>The Dark Knight Rises</td><td>missing</td></tr><tr><th>13</th><td>13</td><td>tt6699860</td><td>Solo</td><td>A Star Wars Story</td></tr><tr><th>14</th><td>14</td><td>tt1210819</td><td>The Lone Ranger</td><td>missing</td></tr><tr><th>15</th><td>15</td><td>tt0401729</td><td>John Carter</td><td>missing</td></tr><tr><th>16</th><td>16</td><td>tt0398286</td><td>Tangled</td><td>missing</td></tr><tr><th>17</th><td>17</td><td>tt0413300</td><td>Spider-Man 3</td><td>missing</td></tr><tr><th>18</th><td>18</td><td>tt3498820</td><td>Captain America</td><td>Civil War</td></tr><tr><th>19</th><td>19</td><td>tt2975590</td><td>Batman v Superman</td><td>Dawn of Justice</td></tr><tr><th>20</th><td>20</td><td>tt0903624</td><td>The Hobbit</td><td>An Unexpected Journey</td></tr><tr><th>21</th><td>21</td><td>tt0417741</td><td>Harry Potter and the Half-Blood Prince</td><td>missing</td></tr><tr><th>22</th><td>22</td><td>tt1170358</td><td>The Hobbit</td><td>The Desolation of Smaug</td></tr><tr><th>23</th><td>23</td><td>tt2310332</td><td>The Hobbit</td><td>The Battle of the Five Armies</td></tr><tr><th>24</th><td>24</td><td>tt4630562</td><td>The Fate of the Furious</td><td>missing</td></tr><tr><th>25</th><td>25</td><td>tt0348150</td><td>Superman Returns</td><td>missing</td></tr><tr><th>26</th><td>26</td><td>tt1790809</td><td>Pirates of the Caribbean</td><td>Dead Men Tell No Tales</td></tr><tr><th>27</th><td>27</td><td>tt0830515</td><td>Quantum of Solace</td><td>missing</td></tr><tr><th>28</th><td>28</td><td>tt0848228</td><td>The Avengers</td><td>missing</td></tr><tr><th>29</th><td>29</td><td>tt0383574</td><td>Pirates of the Caribbean</td><td>Dead Man?\\x80?s Chest</td></tr><tr><th>30</th><td>30</td><td>tt0770828</td><td>Man of Steel</td><td>missing</td></tr><tr><th>&vellip;</th><td>&vellip;</td><td>&vellip;</td><td>&vellip;</td><td>&vellip;</td></tr></tbody></table>"
      ],
      "text/latex": [
       "\\begin{tabular}{r|ccccc}\n",
       "\t& Rank & MovieID & MainTitle & Subtitle & \\\\\n",
       "\t\\hline\n",
       "\t& Int64 & String⍰ & String & String⍰ & \\\\\n",
       "\t\\hline\n",
       "\t1 & 1 & tt0499549 & Avatar &  & $\\dots$ \\\\\n",
       "\t2 & 2 & tt1298650 & Pirates of the Caribbean & On Stranger Tides & $\\dots$ \\\\\n",
       "\t3 & 3 & tt4154796 & Avengers & Endgame & $\\dots$ \\\\\n",
       "\t4 & 4 & tt6565702 & Dark Phoenix &  & $\\dots$ \\\\\n",
       "\t5 & 5 & tt2395427 & Avengers & Age of Ultron & $\\dots$ \\\\\n",
       "\t6 & 6 &  & Star Wars Ep. VIII & The Last Jedi & $\\dots$ \\\\\n",
       "\t7 & 7 &  & Star Wars Ep. VII & The Force Awakens & $\\dots$ \\\\\n",
       "\t8 & 8 & tt4154756 & Avengers & Infinity War & $\\dots$ \\\\\n",
       "\t9 & 9 & tt0449088 & Pirates of the Caribbean & At World?\\textbackslash{}x80?s End & $\\dots$ \\\\\n",
       "\t10 & 10 & tt0974015 & Justice League &  & $\\dots$ \\\\\n",
       "\t11 & 11 & tt2379713 & Spectre &  & $\\dots$ \\\\\n",
       "\t12 & 12 & tt1345836 & The Dark Knight Rises &  & $\\dots$ \\\\\n",
       "\t13 & 13 & tt6699860 & Solo & A Star Wars Story & $\\dots$ \\\\\n",
       "\t14 & 14 & tt1210819 & The Lone Ranger &  & $\\dots$ \\\\\n",
       "\t15 & 15 & tt0401729 & John Carter &  & $\\dots$ \\\\\n",
       "\t16 & 16 & tt0398286 & Tangled &  & $\\dots$ \\\\\n",
       "\t17 & 17 & tt0413300 & Spider-Man 3 &  & $\\dots$ \\\\\n",
       "\t18 & 18 & tt3498820 & Captain America & Civil War & $\\dots$ \\\\\n",
       "\t19 & 19 & tt2975590 & Batman v Superman & Dawn of Justice & $\\dots$ \\\\\n",
       "\t20 & 20 & tt0903624 & The Hobbit & An Unexpected Journey & $\\dots$ \\\\\n",
       "\t21 & 21 & tt0417741 & Harry Potter and the Half-Blood Prince &  & $\\dots$ \\\\\n",
       "\t22 & 22 & tt1170358 & The Hobbit & The Desolation of Smaug & $\\dots$ \\\\\n",
       "\t23 & 23 & tt2310332 & The Hobbit & The Battle of the Five Armies & $\\dots$ \\\\\n",
       "\t24 & 24 & tt4630562 & The Fate of the Furious &  & $\\dots$ \\\\\n",
       "\t25 & 25 & tt0348150 & Superman Returns &  & $\\dots$ \\\\\n",
       "\t26 & 26 & tt1790809 & Pirates of the Caribbean & Dead Men Tell No Tales & $\\dots$ \\\\\n",
       "\t27 & 27 & tt0830515 & Quantum of Solace &  & $\\dots$ \\\\\n",
       "\t28 & 28 & tt0848228 & The Avengers &  & $\\dots$ \\\\\n",
       "\t29 & 29 & tt0383574 & Pirates of the Caribbean & Dead Man?\\textbackslash{}x80?s Chest & $\\dots$ \\\\\n",
       "\t30 & 30 & tt0770828 & Man of Steel &  & $\\dots$ \\\\\n",
       "\t$\\dots$ & $\\dots$ & $\\dots$ & $\\dots$ & $\\dots$ &  \\\\\n",
       "\\end{tabular}\n"
      ],
      "text/plain": [
       "5679×16 DataFrame. Omitted printing of 13 columns\n",
       "│ Row  │ Rank  │ MovieID   │ MainTitle                       │\n",
       "│      │ \u001b[90mInt64\u001b[39m │ \u001b[90mString⍰\u001b[39m   │ \u001b[90mString\u001b[39m                          │\n",
       "├──────┼───────┼───────────┼─────────────────────────────────┤\n",
       "│ 1    │ 1     │ tt0499549 │ Avatar                          │\n",
       "│ 2    │ 2     │ tt1298650 │ Pirates of the Caribbean        │\n",
       "│ 3    │ 3     │ tt4154796 │ Avengers                        │\n",
       "│ 4    │ 4     │ tt6565702 │ Dark Phoenix                    │\n",
       "│ 5    │ 5     │ tt2395427 │ Avengers                        │\n",
       "│ 6    │ 6     │ \u001b[90mmissing\u001b[39m   │ Star Wars Ep. VIII              │\n",
       "│ 7    │ 7     │ \u001b[90mmissing\u001b[39m   │ Star Wars Ep. VII               │\n",
       "│ 8    │ 8     │ tt4154756 │ Avengers                        │\n",
       "│ 9    │ 9     │ tt0449088 │ Pirates of the Caribbean        │\n",
       "│ 10   │ 10    │ tt0974015 │ Justice League                  │\n",
       "⋮\n",
       "│ 5669 │ 5836  │ tt0481267 │ Bang                            │\n",
       "│ 5670 │ 5837  │ \u001b[90mmissing\u001b[39m   │ The Rise and Fall of Miss Thang │\n",
       "│ 5671 │ 5838  │ \u001b[90mmissing\u001b[39m   │ Family Motocross                │\n",
       "│ 5672 │ 5839  │ tt2010510 │ Newlyweds                       │\n",
       "│ 5673 │ 5840  │ \u001b[90mmissing\u001b[39m   │ El Mariachi                     │\n",
       "│ 5674 │ 5841  │ tt0390384 │ Primer                          │\n",
       "│ 5675 │ 5842  │ \u001b[90mmissing\u001b[39m   │ Cavite                          │\n",
       "│ 5676 │ 5845  │ \u001b[90mmissing\u001b[39m   │ Following                       │\n",
       "│ 5677 │ 5846  │ \u001b[90mmissing\u001b[39m   │ Return to the Land of Wonders   │\n",
       "│ 5678 │ 5847  │ \u001b[90mmissing\u001b[39m   │ A Plague So Pleasant            │\n",
       "│ 5679 │ 5848  │ \u001b[90mmissing\u001b[39m   │ My Date With Drew               │"
      ]
     },
     "execution_count": 18,
     "metadata": {},
     "output_type": "execute_result"
    }
   ],
   "source": [
    "# Selecting 16 columns to make a tidy version data frame\n",
    "movie_data_tidy_version = tidy_ver_julia[:,[1, 2, 3, 4, 5, 6, 8, 9, 12, 15, 16, 18, 19, 20, 22, 24]]"
   ]
  },
  {
   "cell_type": "code",
   "execution_count": 19,
   "metadata": {},
   "outputs": [
    {
     "name": "stdout",
     "output_type": "stream",
     "text": [
      "1×16 DataFrame\n",
      "│ Row │ Rank  │ MovieID   │ MainTitle │ Subtitle │ Fullwordcnt │ Release_year │\n",
      "│     │ \u001b[90mInt64\u001b[39m │ \u001b[90mString⍰\u001b[39m   │ \u001b[90mString\u001b[39m    │ \u001b[90mString⍰\u001b[39m  │ \u001b[90mInt64\u001b[39m       │ \u001b[90mInt64\u001b[39m        │\n",
      "├─────┼───────┼───────────┼───────────┼──────────┼─────────────┼──────────────┤\n",
      "│ 1   │ 1     │ tt0499549 │ Avatar    │ \u001b[90mmissing\u001b[39m  │ 1           │ 2009         │\n",
      "\n",
      "│ Row │ Runtime │ Overadult │ maingenre │ directorname  │ productionbudget │\n",
      "│     │ \u001b[90mInt64⍰\u001b[39m  │ \u001b[90mInt64⍰\u001b[39m    │ \u001b[90mString⍰\u001b[39m   │ \u001b[90mString⍰\u001b[39m       │ \u001b[90mInt64\u001b[39m            │\n",
      "├─────┼─────────┼───────────┼───────────┼───────────────┼──────────────────┤\n",
      "│ 1   │ 162     │ 0         │ Action    │ James Cameron │ 425000000        │\n",
      "\n",
      "│ Row │ averagerating │ votecnt │ domgross  │ worldgross │ totalgross │\n",
      "│     │ \u001b[90mFloat64⍰\u001b[39m      │ \u001b[90mInt64⍰\u001b[39m  │ \u001b[90mInt64\u001b[39m     │ \u001b[90mInt64\u001b[39m      │ \u001b[90mInt64\u001b[39m      │\n",
      "├─────┼───────────────┼─────────┼───────────┼────────────┼────────────┤\n",
      "│ 1   │ 7.8           │ 1059406 │ 760507625 │ 2789705275 │ 3550212900 │"
     ]
    }
   ],
   "source": [
    "# To check that the columns are positioned properly for wrangling task\n",
    "show(first(movie_data_tidy_version,1), allcols=true, splitcols=true)"
   ]
  },
  {
   "cell_type": "code",
   "execution_count": 20,
   "metadata": {},
   "outputs": [
    {
     "data": {
      "text/plain": [
       "\"movie_data_step_final(tidyversion).csv\""
      ]
     },
     "execution_count": 20,
     "metadata": {},
     "output_type": "execute_result"
    }
   ],
   "source": [
    "# To make a tidy version of data frame by CSV file\n",
    "CSV.write(\"movie_data_step_final(tidyversion).csv\", movie_data_tidy_version)"
   ]
  },
  {
   "cell_type": "markdown",
   "metadata": {},
   "source": [
    "#### Congratulation!\n",
    "\n",
    "Consequently, we can draw visualisation plots based on the \"movie_data_step_final.csv\" data frame. In this project, we are going to draw plots using Julia.\n",
    "There are a few relevance libraries will be installed in the next Julia part.\n",
    "\n",
    "#### find a file name 'project_step_5(plotting)_Julia'."
   ]
  }
 ],
 "metadata": {
  "kernelspec": {
   "display_name": "Julia 1.1.1",
   "language": "julia",
   "name": "julia-1.1"
  },
  "language_info": {
   "file_extension": ".jl",
   "mimetype": "application/julia",
   "name": "julia",
   "version": "1.1.1"
  }
 },
 "nbformat": 4,
 "nbformat_minor": 4
}
